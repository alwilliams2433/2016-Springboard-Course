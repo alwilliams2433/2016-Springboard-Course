{
 "cells": [
  {
   "cell_type": "markdown",
   "metadata": {},
   "source": [
    "# XML example and exercise\n",
    "****\n",
    "+ study examples of accessing nodes in XML tree structure  \n",
    "+ work on exercise to be completed and submitted\n",
    "****\n",
    "+ reference: https://docs.python.org/2.7/library/xml.etree.elementtree.html\n",
    "+ data source: http://www.dbis.informatik.uni-goettingen.de/Mondial\n",
    "****"
   ]
  },
  {
   "cell_type": "code",
   "execution_count": 1,
   "metadata": {
    "collapsed": true
   },
   "outputs": [],
   "source": [
    "from xml.etree import ElementTree as ET"
   ]
  },
  {
   "cell_type": "markdown",
   "metadata": {},
   "source": [
    "## XML example\n",
    "\n",
    "+ for details about tree traversal and iterators, see https://docs.python.org/2.7/library/xml.etree.elementtree.html"
   ]
  },
  {
   "cell_type": "code",
   "execution_count": 2,
   "metadata": {
    "collapsed": true
   },
   "outputs": [],
   "source": [
    "document_tree = ET.parse( './data/mondial_database_less.xml' )"
   ]
  },
  {
   "cell_type": "code",
   "execution_count": 3,
   "metadata": {
    "collapsed": false,
    "scrolled": true
   },
   "outputs": [
    {
     "name": "stdout",
     "output_type": "stream",
     "text": [
      "Albania\n",
      "Greece\n",
      "Macedonia\n",
      "Serbia\n",
      "Montenegro\n",
      "Kosovo\n",
      "Andorra\n"
     ]
    }
   ],
   "source": [
    "# print names of all countries\n",
    "for child in document_tree.getroot():\n",
    "    print child.find('name').text"
   ]
  },
  {
   "cell_type": "code",
   "execution_count": 4,
   "metadata": {
    "collapsed": false
   },
   "outputs": [
    {
     "name": "stdout",
     "output_type": "stream",
     "text": [
      "* Albania: Tirana, Shkodër, Durrës, Vlorë, Elbasan, Korçë\n",
      "* Greece: Komotini, Kavala, Athina, Peiraias, Peristeri, Acharnes, Patra, Kozani, Kerkyra, Ioannina, Thessaloniki, Iraklio, Chania, Ermoupoli, Rhodes, Tripoli, Lamia, Chalkida, Larissa, Volos, Mytilini, Karyes\n",
      "* Macedonia: Skopje, Kumanovo\n",
      "* Serbia: Beograd, Novi Sad, Niš\n",
      "* Montenegro: Podgorica\n",
      "* Kosovo: Prishtine\n",
      "* Andorra: Andorra la Vella\n"
     ]
    }
   ],
   "source": [
    "# print names of all countries and their cities\n",
    "for element in document_tree.iterfind('country'):\n",
    "    print '* ' + element.find('name').text + ':',\n",
    "    capitals_string = ''\n",
    "    for subelement in element.getiterator('city'):\n",
    "        capitals_string += subelement.find('name').text + ', '\n",
    "    print capitals_string[:-2]"
   ]
  },
  {
   "cell_type": "markdown",
   "metadata": {},
   "source": [
    "****\n",
    "## XML exercise\n",
    "\n",
    "Using data in 'data/mondial_database.xml', the examples above, and refering to https://docs.python.org/2.7/library/xml.etree.elementtree.html, find\n",
    "\n",
    "1. 10 countries with the lowest infant mortality rates\n",
    "2. 10 cities with the largest population\n",
    "3. 10 ethnic groups with the largest overall populations (sum of best/latest estimates over all countries)\n",
    "4. name and country of a) longest river, b) largest lake and c) airport at highest elevation"
   ]
  },
  {
   "cell_type": "code",
   "execution_count": 5,
   "metadata": {
    "collapsed": false
   },
   "outputs": [],
   "source": [
    "# Load XML document\n",
    "document = ET.parse( './data/mondial_database.xml' )\n",
    "\n",
    "# Import pandas and numpy\n",
    "import pandas as pd\n",
    "import numpy as np"
   ]
  },
  {
   "cell_type": "markdown",
   "metadata": {},
   "source": [
    "## 1.) 10 countries with the lowest infant mortality rates"
   ]
  },
  {
   "cell_type": "code",
   "execution_count": 12,
   "metadata": {
    "collapsed": false
   },
   "outputs": [
    {
     "name": "stdout",
     "output_type": "stream",
     "text": [
      "Top 10 countries with lowest infant mortality: \n",
      "Monaco            1.81\n",
      "Japan             2.13\n",
      "Bermuda           2.48\n",
      "Norway            2.48\n",
      "Singapore         2.53\n",
      "Sweden            2.60\n",
      "Czech Republic    2.63\n",
      "Hong Kong         2.73\n",
      "Macao             3.13\n",
      "Iceland           3.15\n",
      "dtype: float64\n"
     ]
    }
   ],
   "source": [
    "countryList = [country.find('name').text for country in document.iterfind('country')]\n",
    "countryMortalityRate = pd.Series(np.nan,index=countryList)\n",
    "for country in document.iterfind('country'):\n",
    "    countryName = country.find('name').text;\n",
    "    if ET.iselement(country.find('infant_mortality')):\n",
    "        countryMortalityRate[countryName] = country.find('infant_mortality').text\n",
    "print \"Top 10 countries with lowest infant mortality: \\n{}\".format(countryMortalityRate.sort_values(ascending = True)[:10])"
   ]
  },
  {
   "cell_type": "markdown",
   "metadata": {},
   "source": [
    "## 2.) 10 cities with the largest population (NOTE: Census data is preferred over current)"
   ]
  },
  {
   "cell_type": "code",
   "execution_count": 204,
   "metadata": {
    "collapsed": false
   },
   "outputs": [
    {
     "name": "stdout",
     "output_type": "stream",
     "text": [
      "Top 10 cities with the largest population: \n",
      "Istanbul            13710512.0\n",
      "Mumbai              12442373.0\n",
      "Moskva              11979529.0\n",
      "Delhi               11034555.0\n",
      "Shenzhen            10358381.0\n",
      "Seoul               10229262.0\n",
      "Karachi              9863000.0\n",
      "São Paulo            9811776.0\n",
      "Tokyo                8591695.0\n",
      "Ciudad de México     8555272.0\n",
      "dtype: float64\n"
     ]
    }
   ],
   "source": [
    "cityList = [city.find('name').text for country in document.iterfind('country') for city in country.getiterator('city')]\n",
    "cityPopulation = pd.Series(np.nan,index=cityList)\n",
    "for country in document.iterfind('country'):\n",
    "    for city in country.getiterator('city'):\n",
    "        cityName = city.find('name').text;\n",
    "        \n",
    "        # Check if population data is available\n",
    "        if ET.iselement(city.find('population')):\n",
    "            # Determine the latest population figures. pick the most current census. estimates are ranked the least reliable\n",
    "            populationMeasurements = city.findall('population');\n",
    "            populationData         = np.zeros([len(populationMeasurements),3])\n",
    "            for (index,population) in enumerate(populationMeasurements):\n",
    "                populationData[index,0] = int(population.text)\n",
    "                populationData[index,1] = int(population.attrib['year'])\n",
    "                if population.attrib.has_key('measured'):\n",
    "                    populationData[index,2] = population.attrib['measured']=='census';\n",
    "            populationData = populationData[np.argsort(populationData[:,1])[::-1],:]; # sort first by population year (in descending order)\n",
    "            populationData = populationData[np.argsort(populationData[:,2]),:]; # then sort by census (all other values are less reliable)\n",
    "            cityPopulation[cityName] = populationData[0,0];\n",
    "print \"Top 10 cities with the largest population: \\n{}\".format(cityPopulation.sort_values(ascending = False)[:10])"
   ]
  },
  {
   "cell_type": "markdown",
   "metadata": {},
   "source": [
    "## 3.) 10 ethnic groups with the largest overall populations (sum of best/latest estimates over all countries)"
   ]
  },
  {
   "cell_type": "code",
   "execution_count": 205,
   "metadata": {
    "collapsed": false
   },
   "outputs": [
    {
     "name": "stdout",
     "output_type": "stream",
     "text": [
      "Top 10 ethnic groups by largest population: \n",
      "Han Chinese    1.245059e+11\n",
      "Indo-Aryan     8.718156e+10\n",
      "European       4.900780e+10\n",
      "Dravidian      3.027137e+10\n",
      "African        2.978845e+10\n",
      "Bengali        1.467769e+10\n",
      "Mestizo        1.394420e+10\n",
      "Russian        1.318714e+10\n",
      "Japanese       1.265342e+10\n",
      "Javanese       1.135228e+10\n",
      "dtype: float64\n"
     ]
    }
   ],
   "source": [
    "ethnicGroups = set([group.text for country in document.iterfind('country') for group in country.findall('ethnicgroup')])\n",
    "ethnicPopulationData = pd.Series(0.0,index=ethnicGroups)\n",
    "for country in document.iterfind('country'):\n",
    "    # Determine the latest population figures. pick a census if possible\n",
    "    populationMeasurements = country.findall('population');\n",
    "    populationData         = np.zeros([len(populationMeasurements),3])\n",
    "    for (index,population) in enumerate(populationMeasurements):\n",
    "        populationData[index,0] = int(population.text)\n",
    "        populationData[index,1] = int(population.attrib['year'])\n",
    "        if population.attrib.has_key('measured'):\n",
    "            populationData[index,2] = population.attrib['measured']=='census';\n",
    "    populationData = populationData[np.argsort(populationData[:,1])[::-1],:]; # sort first by population year (in descending order)\n",
    "    populationData = populationData[np.argsort(populationData[:,2]),:]; # then sort by census (all other values are less reliable)\n",
    "    populationValue = float(populationData[0,0]);\n",
    "    \n",
    "    # Now update ethnic group data by weighting the population value for the country by ethnic weighting\n",
    "    for group in country.findall('ethnicgroup'):\n",
    "        ethnicPopulationData[group.text] += float(group.attrib['percentage'])*populationValue;\n",
    "print \"Top 10 ethnic groups by largest population: \\n{}\".format(ethnicPopulationData.sort_values(ascending = False)[:10])"
   ]
  },
  {
   "cell_type": "markdown",
   "metadata": {},
   "source": [
    "## 4.) name and country of a) longest river, b) largest lake and c) airport at highest elevation"
   ]
  },
  {
   "cell_type": "code",
   "execution_count": 323,
   "metadata": {
    "collapsed": false
   },
   "outputs": [
    {
     "name": "stdout",
     "output_type": "stream",
     "text": [
      "Longest river: Amazonas (CO BR PE @ 6448.0 km)\n",
      "Largest lake: Caspian Sea (R AZ KAZ IR TM @ 386400.0 in sq. km)\n",
      "Airport at highest elevation: BOL (El Alto Intl @ 4063.0 meters)\n"
     ]
    }
   ],
   "source": [
    "#a.) Longest river\n",
    "longestRiverData= {'name':'none', 'country':'none', 'riverLength':0.0}; # name, country, river length\n",
    "for river in document.findall('river'):\n",
    "    if(ET.iselement(river.find('length'))):\n",
    "        riverLength = float(river.find('length').text)\n",
    "        if(riverLength > longestRiverData['riverLength']):\n",
    "            longestRiverData['name']      = river.find('name').text;\n",
    "            longestRiverData['country']   = river.attrib['country'];\n",
    "            longestRiverData['riverLength'] = riverLength;\n",
    "print \"Longest river: {} ({} @ {} km)\".format(longestRiverData['name'],longestRiverData['country'],longestRiverData['riverLength'])\n",
    "\n",
    "#b.) Largest lake\n",
    "largestLakeData= {'name':'none', 'country':'none', 'lakeArea':0.0}; # name, country, lakeArea\n",
    "for lake in document.findall('lake'):\n",
    "    if(ET.iselement(lake.find('area'))):\n",
    "        lakeArea = float(lake.find('area').text)\n",
    "        if(lakeArea > largestLakeData['lakeArea']):\n",
    "            largestLakeData['name']     = lake.find('name').text;\n",
    "            largestLakeData['country']  = lake.attrib['country'];\n",
    "            largestLakeData['lakeArea'] = lakeArea;\n",
    "print \"Largest lake: {} ({} @ {} in sq. km)\".format(largestLakeData['name'],largestLakeData['country'],largestLakeData['lakeArea'])\n",
    "\n",
    "# c.) Airport at highest elevation\n",
    "highestAirportData = {'name':'none', 'country':'none', 'elevation':0.0}; # name, country, elevation\n",
    "for airport in document.findall('airport'):\n",
    "    elevation = airport.find('elevation').text;\n",
    "    if(elevation):\n",
    "        elevation = float(elevation)\n",
    "        if(elevation > highestAirportData['elevation']):\n",
    "            highestAirportData['name']      = airport.attrib['country'];\n",
    "            highestAirportData['country']   = airport.find('name').text;\n",
    "            highestAirportData['elevation'] = elevation;\n",
    "print \"Airport at highest elevation: {} ({} @ {} meters)\".format(highestAirportData['name'],highestAirportData['country'],highestAirportData['elevation'])"
   ]
  }
 ],
 "metadata": {
  "kernelspec": {
   "display_name": "Python [Root]",
   "language": "python",
   "name": "Python [Root]"
  },
  "language_info": {
   "codemirror_mode": {
    "name": "ipython",
    "version": 2
   },
   "file_extension": ".py",
   "mimetype": "text/x-python",
   "name": "python",
   "nbconvert_exporter": "python",
   "pygments_lexer": "ipython2",
   "version": "2.7.11"
  }
 },
 "nbformat": 4,
 "nbformat_minor": 0
}
