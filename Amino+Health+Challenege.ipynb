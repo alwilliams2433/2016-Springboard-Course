{
 "cells": [
  {
   "cell_type": "markdown",
   "metadata": {},
   "source": [
    "# Amino Data Science Challenge\n",
    "The goal of this exercise is to give you a feel for data science at Amino and an opportunity to demonstrate your analytical and problem solving skills. The problems described here are ones we have worked on recently, and while the data provided is simulated and simplified, it is similar to the real data we have.\n",
    "\n",
    "Please spend up to 4 hours on the exercise, starting with the first part and solving the second to the extent that you have time. We will accept incomplete submissions. \n",
    "\n",
    "All data is available here: https://www.dropbox.com/sh/63d1zfgxrwlq4au/AABV7_eS6tx5iOoZGpXPKc5Ua?dl=0.\n"
   ]
  },
  {
   "cell_type": "markdown",
   "metadata": {},
   "source": [
    "## Part 1: Estimating X-ray prices at imaging centers\n",
    "\n",
    "One of the many complaints that patients have about the US healthcare system is that they never know how much a procedure will cost before it happens, and do not know how to choose a doctor that can provide a procedure at a reasonable price.\n",
    "\n",
    "One of our projects at Amino is to accurately estimate prices for various procedures, such as X-rays, using pricing data from health insurance claims. We want you to estimate how much an X-ray would cost at each of the facilities in the (simulated) dataset provided. \n",
    "\n",
    "The file imaging_center_costs.csv provides prices obtained from insurance claims for several facilities and insurance providers. The prices also vary depending on the type of X-ray which is indicated using a service code. Relevant files: imaging_center_costs.csv, facility.csv, baseline_costs.csv\n",
    "\n",
    "We want you to explore this data and answer the following questions:\n",
    "-\tCan you estimate the X-ray price for a service code, facility, insurance combination?\n",
    "-\tCan you provide confidence intervals for your estimate? \n",
    "-\tCan you predict prices in cases where we have no observations for service code, facility, insurance combination? \n",
    "-\tAmino also has access to location specific baseline prices for each service code. This data is provided in baseline_costs.csv. The locations of facilities are provided in facility.csv. How do these prices relate to the observed prices at facilities? \n",
    "-\tCan you model the observed prices as a function of the baseline prices ? Can you quantify the error in your model ?\n",
    "-\tHow can you use this model help improve the price estimates? \n",
    "\n"
   ]
  },
  {
   "cell_type": "code",
   "execution_count": 1,
   "metadata": {
    "collapsed": false
   },
   "outputs": [
    {
     "name": "stdout",
     "output_type": "stream",
     "text": [
      "Mean X-ray price is: 14.3\n"
     ]
    }
   ],
   "source": [
    "# Question 1: Can you estimate the X-ray price for a service code, facility, insurance combination?\n",
    "# Answer 1: Yes, we can. We'll do this by defining a function, getPriceData, that can extract out entries in the data that correspond to the desired service code, facility, insurance combination\n",
    "\n",
    "# Load packages\n",
    "import matplotlib.pyplot as plt\n",
    "import numpy as np\n",
    "import pandas as pd\n",
    "import scipy\n",
    "import sklearn\n",
    "%matplotlib inline \n",
    "\n",
    "# Read X-ray cost data into Python\n",
    "imagingCenterCosts = pd.DataFrame.from_csv('imaging_center_costs.csv',index_col=None);\n",
    "facilityIDs        = pd.DataFrame.from_csv('Facility.csv',index_col=None);\n",
    "baselineCosts      = pd.DataFrame.from_csv('baseline_costs.csv',index_col=None);\n",
    "\n",
    "# Define the getPriceData function\n",
    "def getPriceData(imagingCenterCosts,serviceCode=70030,facilityName='real imaging',insuranceName='real insurance'):\n",
    "    \"finds price data entries for a combination of service code id, facility name, and insurance\"\n",
    "    validEntries = imagingCenterCosts[(imagingCenterCosts['SERVICE'  ]==serviceCode  )\\\n",
    "                                     &(imagingCenterCosts['FACILITY' ]==facilityName )\\\n",
    "                                     &(imagingCenterCosts['INSURANCE']==insuranceName)]\n",
    "    return validEntries['PRICE'].values\n",
    "\n",
    "# Let's test this function here for a service code, facility, insurance combination:\n",
    "priceData = getPriceData(imagingCenterCosts,serviceCode=71010,facilityName='real imaging',insuranceName='real insurance');\n",
    "print(\"Mean X-ray price is: {}\".format(np.mean(priceData)))"
   ]
  },
  {
   "cell_type": "code",
   "execution_count": 2,
   "metadata": {
    "collapsed": false
   },
   "outputs": [
    {
     "name": "stdout",
     "output_type": "stream",
     "text": [
      "95th confidence intervals for the above x-ray price are: [ 13.15732976  15.44267024]\n"
     ]
    }
   ],
   "source": [
    "# Question 2: Can you provide confidence intervals for your estimate?\n",
    "# Answer 2: Yes, we can compute confidence intervals using scipy to get the critical value for a 95th percentile estimate. \n",
    "\n",
    "from scipy.stats import norm\n",
    "\n",
    "def computeConfidenceIntervals(data,interval=0.95):\n",
    "    \"\"\" return confidence intervals \"\"\"\n",
    "    methodType = 'explicit';\n",
    "    if methodType=='explicit':\n",
    "        return np.mean(data)+np.array([-1,1])*norm.ppf(interval)*np.std(data)/np.sqrt(data.size)\n",
    "    elif methodType == 'builtInFunction':\n",
    "        return norm.interval(0.95, loc=np.mean(data), scale=np.std(data)/np.sqrt(data.size))\n",
    "\n",
    "# Let's test this function here for a service code, facility, insurance combination:\n",
    "print(\"95th confidence intervals for the above x-ray price are: {}\".format(computeConfidenceIntervals(priceData)))"
   ]
  },
  {
   "cell_type": "code",
   "execution_count": 3,
   "metadata": {
    "collapsed": false
   },
   "outputs": [
    {
     "name": "stdout",
     "output_type": "stream",
     "text": [
      "Classifier accuracy on test data is: RMSE=7.41243296198 (NOTE: Held out 5.0% of training data for testing)\n",
      "Estimated price from classifier: 14.5028707514\n"
     ]
    },
    {
     "name": "stderr",
     "output_type": "stream",
     "text": [
      "C:\\Program Files\\Anaconda2\\lib\\site-packages\\sklearn\\cross_validation.py:44: DeprecationWarning: This module was deprecated in version 0.18 in favor of the model_selection module into which all the refactored classes and functions are moved. Also note that the interface of the new CV iterators are different from that of this module. This module will be removed in 0.20.\n",
      "  \"This module will be removed in 0.20.\", DeprecationWarning)\n",
      "C:\\Program Files\\Anaconda2\\lib\\site-packages\\sklearn\\preprocessing\\label.py:147: DataConversionWarning: A column-vector y was passed when a 1d array was expected. Please change the shape of y to (n_samples, ), for example using ravel().\n",
      "  y = column_or_1d(y, warn=True)\n"
     ]
    }
   ],
   "source": [
    "# Question 3: Can you predict prices in cases where we have no observations for service code, facility, insurance combination?\n",
    "# Answer 3: Yes, in principle we can take advantage of regression methods to predict the price by making use of other service code, facility, insurance combinations. \n",
    "# Here, I implemented an example of using ensembles methods with Gradient Boosting to make predictions from categorical input:\n",
    "\n",
    "from sklearn.cross_validation import train_test_split\n",
    "from sklearn.ensemble import RandomForestRegressor, AdaBoostRegressor, GradientBoostingRegressor, ExtraTreesRegressor\n",
    "from sklearn.preprocessing import LabelEncoder\n",
    "\n",
    "class estimatePriceData():\n",
    "    def __init__(self,imagingCenterCosts):\n",
    "        \n",
    "        # Setup label encoders for categorical data\n",
    "        self.serviceEncoder   = LabelEncoder();\n",
    "        self.facilityEncoder  = LabelEncoder();\n",
    "        self.insuranceEncoder = LabelEncoder();\n",
    "                  \n",
    "        # Parse out data from the imagingCenterCosts data frame\n",
    "        self.x = np.array([self.serviceEncoder.fit_transform(imagingCenterCosts['SERVICE']),\\\n",
    "                           self.facilityEncoder.fit_transform(imagingCenterCosts['FACILITY']),\\\n",
    "                           self.insuranceEncoder.fit_transform(imagingCenterCosts['INSURANCE'])]).T;\n",
    "        self.y = np.array(imagingCenterCosts['PRICE']);\n",
    "\n",
    "    def trainClassifier(self,clf=RandomForestRegressor(n_estimators=100),test_size=0.2):\n",
    "        \"\"\" Train classifier on a subset of data, and return accuracy\"\"\"\n",
    "        \n",
    "        # Setup an ensemble classifier. I tried a couple of classifiers: RandomForestRegressors, AdaBoostRegressor, GradientBoostingRegressor\n",
    "        # Based on the data, GradientBoostingRegressor seemed to work best of the 3.\n",
    "        self.clf=clf;  \n",
    "        \n",
    "        # Setup test/train datasets. Cross-Validation might be a better approach, but I took the simplier one here\n",
    "        X_train, X_test, y_train, y_test = train_test_split(self.x, self.y, test_size=test_size, random_state=0);\n",
    "        \n",
    "        self.clf.fit(X_train,y_train);\n",
    "        RMSE = np.sqrt(np.mean((self.clf.predict(X_test)-y_test)**2));\n",
    "        print(\"Classifier accuracy on test data is: RMSE={} (NOTE: Held out {}% of training data for testing)\".format(RMSE,100*test_size))\n",
    "    \n",
    "    def estimatePrice(self,serviceCode=71010,facilityName='real imaging',insuranceName='real insurance'):\n",
    "        \"\"\" Compute a price estimate based on the service code, facility, insurance combination\"\"\"\n",
    "        X = np.array([self.serviceEncoder.transform(np.array(serviceCode).reshape([1,1])),\\\n",
    "                      self.facilityEncoder.transform(np.array(facilityName).reshape([1,1])),\\\n",
    "                      self.insuranceEncoder.transform(np.array(insuranceName).reshape([1,1]))])\n",
    "        X = X.reshape([1,X.size]);\n",
    "        return(self.clf.predict(X));\n",
    "    \n",
    "estimator = estimatePriceData(imagingCenterCosts);\n",
    "estimator.trainClassifier(clf=GradientBoostingRegressor(n_estimators=100),test_size=0.05);\n",
    "estimate=estimator.estimatePrice(serviceCode=71010,facilityName='real imaging',insuranceName='real insurance')\n",
    "print(\"Estimated price from classifier: {}\".format(estimate[0]))"
   ]
  },
  {
   "cell_type": "markdown",
   "metadata": {},
   "source": [
    "Question 4: Amino also has access to location specific baseline prices for each service code. This data is provided in baseline_costs.csv. The locations of facilities are provided in facility.csv. How do these prices relate to the observed prices at facilities?\n",
    "\n",
    "Answer 4: From the below plot/table, we can see that the difference in price (actual vs base costs) appears to systematically vary between facilities. I wonder if this indicates either that there is some latent costs that systematically vary between facilities, of if there is some kind of error. It's clear that the most predictive feature here is the facility ID. There is also one outlier for quick imaging for a service ID of 72070. "
   ]
  },
  {
   "cell_type": "code",
   "execution_count": 4,
   "metadata": {
    "collapsed": false
   },
   "outputs": [
    {
     "name": "stdout",
     "output_type": "stream",
     "text": [
      "      imaging r us quick imaging real imaging\n",
      "70030          NaN           NaN       -17.76\n",
      "70150          NaN           NaN       -25.79\n",
      "70200          NaN           NaN       -25.51\n",
      "70220          NaN           NaN       -22.71\n",
      "70250          NaN           NaN       -21.24\n",
      "70360          NaN           NaN       -18.13\n",
      "71010          NaN           NaN        -8.89\n",
      "71020          NaN           NaN     -13.2775\n",
      "71101         9.32           NaN      -20.565\n",
      "71111          NaN           NaN      -28.395\n",
      "72020        -0.05           NaN          NaN\n",
      "72040         8.72        61.805       -20.28\n",
      "72050          NaN         86.21     -23.5729\n",
      "72052          NaN           NaN       -35.27\n",
      "72070          5.8       -25.855          NaN\n",
      "72072          NaN           NaN       -21.77\n",
      "72080        6.295           NaN          NaN\n",
      "72100      10.3932        37.155       -22.14\n",
      "72110        13.58       59.7422     -30.8177\n",
      "72114       18.915           NaN          NaN\n",
      "72170         0.97        34.665       -21.84\n",
      "72190          NaN         35.22          NaN\n",
      "72202          NaN           NaN       -21.94\n",
      "73000         3.94       32.9643      -17.395\n",
      "73010          NaN           NaN       -19.98\n",
      "73030         5.56       25.9107     -15.3118\n",
      "73060          NaN           NaN       -18.88\n",
      "73070          4.3         21.01      -18.035\n",
      "73080         8.59        20.925      -21.095\n",
      "73090          5.6       22.3236       -16.04\n",
      "73100         3.61         25.93          NaN\n",
      "73110          3.6       37.1615     -23.2342\n",
      "73120          NaN           NaN       -15.91\n",
      "73130         4.92       29.0357     -19.9917\n",
      "73140       -0.265       23.8918        -23.5\n",
      "73510          NaN           NaN          NaN\n",
      "73520          NaN           NaN          NaN\n",
      "73560         1.61       14.6167      -21.005\n",
      "73562      3.37333       39.7915     -24.4485\n",
      "73564      5.37364           NaN     -20.5186\n",
      "73565          NaN           NaN     -25.2633\n",
      "73590         2.94         28.01       -14.11\n",
      "73600         1.61           NaN       -19.99\n",
      "73610     0.977097       28.2886     -20.8129\n",
      "73630         6.58       31.5667     -18.1603\n",
      "73650         3.27           NaN      -18.025\n",
      "73660         3.35           NaN       -13.16\n",
      "74000          NaN           NaN        -13.3\n",
      "74020          NaN           NaN       -21.68\n",
      "74022          NaN           NaN       -23.86\n"
     ]
    },
    {
     "data": {
      "image/png": "[encoded data removed]",
      "text/plain": [
       "<matplotlib.figure.Figure at 0xbeb9f28>"
      ]
     },
     "metadata": {},
     "output_type": "display_data"
    },
    {
     "data": {
      "image/png": "[encoded data removed]",
      "text/plain": [
       "<matplotlib.figure.Figure at 0xc070f98>"
      ]
     },
     "metadata": {},
     "output_type": "display_data"
    }
   ],
   "source": [
    "# Here we loop through the baselineCosts and imagingCenterCosts and find the typical cost associated with each unique service code \n",
    "uniqueServiceCodes = np.unique(imagingCenterCosts['SERVICE'].values);\n",
    "facilities  = list(facilityIDs['FACILITY'].unique());\n",
    "actualCosts = pd.DataFrame([],index=uniqueServiceCodes,columns=facilities);\n",
    "baseCosts   = pd.DataFrame([],index=uniqueServiceCodes,columns=facilities);\n",
    "for facility in facilities:\n",
    "    IDCode = facilityIDs[facilityIDs['FACILITY']==facility]['LOC_ID'].values[0]\n",
    "    #print(facility,IDCode)\n",
    "    \n",
    "    for serviceCode in uniqueServiceCodes:\n",
    "        actualCosts.loc[serviceCode,facility] = imagingCenterCosts[(imagingCenterCosts['FACILITY']==facility)&(imagingCenterCosts['SERVICE']==serviceCode)].mean()[0]\n",
    "        baseCosts.loc[  serviceCode,facility] =      baselineCosts[(     baselineCosts['LOC_ID'  ]==IDCode  )&(     baselineCosts['SERVICE']==serviceCode)].mean()[0];\n",
    "\n",
    "# Plot the data and show in a table form\n",
    "# PLOT 1: Scatter plot of Actual vs Base price\n",
    "fig,ax=plt.subplots();\n",
    "colors = 'rgb';\n",
    "for i,facility in enumerate(facilities):\n",
    "    plt.scatter(x=baseCosts.values[:,i],y=actualCosts.values[:,i],color=colors[i],label=facility);\n",
    "ax.set_ylabel('Actual price')\n",
    "ax.set_xlabel('Base price')\n",
    "ax.legend()\n",
    "\n",
    "# PLOT 2: Difference in price (Actual vs Base)\n",
    "ax=(actualCosts-baseCosts).plot(style='o')\n",
    "ax.set_ylabel('Difference in price (Actual vs Base Cost)')\n",
    "ax.set_xlabel('Service ID')\n",
    "\n",
    "# TABLE\n",
    "print actualCosts-baseCosts"
   ]
  },
  {
   "cell_type": "markdown",
   "metadata": {},
   "source": [
    "QUESTION 5: Can you model the observed prices as a function of the baseline prices ? Can you quantify the error in your model?\n",
    "ANSWER 5: Yes, we can setup a linear regression model to test this relationship. I chose to use Ridge regression because it tends to be more robust as an \"out-of-the-box\" algorithm. I also chose at least initially to model each facility independently, as I was unsure whether the relationship between actual and base costs was consistent between the facilities. If I had more time, I would like to model the relationship. \n",
    "\n",
    "For model robustness, I also manually eliminated one data point for the quick imaging facility that had a dramatically lower actual price than the others. A perhaps better, but more time-consuming approach would be to compute the model on bootstrapped distributions. "
   ]
  },
  {
   "cell_type": "code",
   "execution_count": 5,
   "metadata": {
    "collapsed": false
   },
   "outputs": [
    {
     "name": "stdout",
     "output_type": "stream",
     "text": [
      "Fitting a regression model to data for facility 'imaging r us': y = 1.46*x+(-8.87), where R^2 = 0.95 and RMSE = 2.54\n",
      "Fitting a regression model to data for facility 'quick imaging': y = 3.39*x+(-38.50), where R^2 = 0.76 and RMSE = 10.24\n",
      "Fitting a regression model to data for facility 'real imaging': y = 0.42*x+(-0.43), where R^2 = 0.68 and RMSE = 2.15\n"
     ]
    }
   ],
   "source": [
    "from sklearn.linear_model import RidgeCV\n",
    "\n",
    "clf=RidgeCV(cv = 3,store_cv_values=False);\n",
    "for i,facility in enumerate(facilities):\n",
    "    # Get x,y data for model\n",
    "    x = baseCosts.values[:,i].astype('float64');\n",
    "    y = actualCosts.values[:,i].astype('float64');\n",
    "    \n",
    "    # Eliminate NaNs\n",
    "    validEntries = (~np.isnan(x))&(~np.isnan(y));\n",
    "    if i==1: # Manually removed one outlier\n",
    "        validEntries[14] = False;\n",
    "    x = x[validEntries];\n",
    "    y = y[validEntries]\n",
    "    \n",
    "    # Reshape arrays to make them 1d\n",
    "    x = x.reshape([x.size,1])\n",
    "    y = y.reshape([y.size,1])\n",
    "    \n",
    "    clf.fit(x,y)\n",
    "    print(\"Fitting a regression model to data for facility '{}': y = {:4.2f}*x+({:4.2f}), where R^2 = {:4.2f} and RMSE = {:4.2f}\".format(facility,clf.coef_[0][0],clf.intercept_[0],clf.score(x,y),np.sqrt(np.mean((clf.predict(x)-y)**2))))"
   ]
  },
  {
   "cell_type": "markdown",
   "metadata": {},
   "source": [
    "Question 6: How can you use this model help improve the price estimates?\n",
    "\n",
    "Answer 6: Because there is such a clear relationship between base costs and actual costs, the data in the base_costs.csv can be used to improve the fits of the original model (developed in Question 3) for making predictions on price for an X-ray procedure. However, before I would take advantage of the information, I would really want to investigate whether the regression model developed in Question 5 could be robustly fit using a single model, or if unique models were necessary for each facility. "
   ]
  },
  {
   "cell_type": "markdown",
   "metadata": {},
   "source": [
    "## Part 2: Predicting specialty labels of doctors \n",
    "\n",
    "Amino aims to help patients find doctors with unique specialties that are best suited for them. Specialty labels indicate the areas of expertise of a doctor. While there are several online databases that link doctors to specialties, they have limited coverage and are sometimes outdated. \n",
    "\n",
    "One of our projects at Amino is to assign specialty labels to doctors based on the services they provide as seen in the health care claims data. We want you to develop a model to assign specialty labels for doctors given (simulated) data about the services they provide and their patient age and gender. \n",
    "\n",
    "Relevant files:\n",
    "-\tphysician_topic_frequency.csv has information about the frequency of different topics in a doctor’s claims data.\n",
    "-\tphysician_patient_features.csv has some statistics about each doctor’s patient population. \n",
    "-\tphysician_specialty.csv has specialty labels for each doctor. \n",
    "\n",
    "We want you to explore this data and answer the following questions:\n",
    "-\tBuild a predictive model for the specialty label associated with doctors. Which classification technique did you use and why?\n",
    "-\tEvaluate the performance of your algorithm. Which metrics did you choose and why? \n",
    "-\tWhat insights can you gather from this model? "
   ]
  },
  {
   "cell_type": "markdown",
   "metadata": {
    "collapsed": true
   },
   "source": [
    "Question: Build a predictive model for the specialty label associated with doctors. Which classification technique did you use and why?\n",
    "\n",
    "Answer: Here I built a predictive model using a mix of different classifiers due to the ease in trying different models. I wanted to try a RandomForest with Gradient Boosting, since I was worried about overfitting, but I ran out of time for an implementation. However, basic linear classifiers, such as Ridge Classification and Support Vector Machine, appeared to provide good results. Logistic regression, a default choice of mine to try on a new classification problem, due to its speed, provided a decent performance, but gave some weird answers. I think the more robust classification of Support Vector Machine came from the non-linear boundaries and Ridge classification for having access to regularization (L-2 norm). \n",
    "\n",
    "------------\n",
    "\n",
    "Question: Evaluate the performance of your algorithm. Which metrics did you choose and why?\n",
    "\n",
    "Answer: One of the first things I noticed was the high number of features present in physician_topic_frequency.csv, which made me worry about overfitting. Thus, I tried a first implementation where Principal Component Analsysis (PCA) was used to reduce the dimensionality of the input data, but I did not find that helped. For actually building the predictive models, I used GridSearch to help me find the most optimal hyperparameter for each model (i.e. alpha or C). Also, to verify the performance of the model, I used 3-fold cross-validation, which returned stable results.\n",
    "\n",
    "For the actual metric to evaluate model performance, I chose to start with a simple measure of accuracy (i.e. how frequent the algorithm predicted the doctor's speciality). However, if I had more time, I would have liked to try other measures like sensitivity/recall. Another softer metric was to evaluate what were the Top 10 features associated with each speciality. While Support Vector Machine and Ridge Classification provided features I would have associated with each speciality, I was very surprised to see that Logistic Regression associated features like hepatitis with gastroenterology and parkinsons-disease with cardiology. And in this sense, I think that Logistic Regression provided functionally less robust results than Support Vector Machine despite having a slightly higher accuracy.\n",
    "\n",
    "------------\n",
    "\n",
    "Question: What insights can you gather from this model?\n",
    "\n",
    "Answer: Well one thing with the model is that we can verify is that there is enough data that performance on the model performs better without dimension reduction on the features. If I took a cutoff of explaining 95-99% of the features, I was finding between 50-75% model accuracy whereas model accuracy achieved 95% accuracy without dimension reduction with PCA.\n",
    "\n",
    "Next, we can take advantage of this model to determine what factors are most likely to be associated with each speciality. I used this as a sanity to check, but I thought it was also be informative to see what features are most likely associated with each model. In the future, it would be interesting to create a profile, and determine whether some doctors are better described by more than one speciality. "
   ]
  },
  {
   "cell_type": "code",
   "execution_count": 7,
   "metadata": {
    "collapsed": false
   },
   "outputs": [
    {
     "name": "stdout",
     "output_type": "stream",
     "text": [
      "------------------------------------------------\n",
      "Showing results for Logistic Regression model \n",
      "------------------------------------------------\n",
      "Mean model accuracy using cross-validation (3-fold): 95.42%\n",
      "Top 10 associated factors with each speciality\n",
      "                 CARDIOVASCULAR DISEASE (CARDIOLOGY)  \\\n",
      "0                       proc_cardiac-catheterization   \n",
      "1                                        diag_sepsis   \n",
      "2                                      diag_weakness   \n",
      "3                                  proc_hemodialysis   \n",
      "4                            diag_parkinsons-disease   \n",
      "5              diag_high-blood-pressure-hypertension   \n",
      "6                         diag_heart-valve-condition   \n",
      "7                                 diag_heart-disease   \n",
      "8  proc_NO TOPIC - cardiac-stress-test_procedure_...   \n",
      "9                   diag_coronary-artery-disease-cad   \n",
      "\n",
      "                                GASTROENTEROLOGY  \\\n",
      "0           proc_peripheral-vascular-disease-pvd   \n",
      "1                                  proc_biopsies   \n",
      "2                                proc_thrombosis   \n",
      "3               proc_NO TOPIC - pt_procedure_lab   \n",
      "4                               diag_hepatitis-c   \n",
      "5                                 diag_hepatitis   \n",
      "6                               proc_colonoscopy   \n",
      "7                     proc_colonoscopy-screening   \n",
      "8  proc_minimally-invasive-diagnostic-procedures   \n",
      "9                           diag_liver-condition   \n",
      "\n",
      "                                  GERIATRIC MEDICINE  \\\n",
      "0                         diag_alzheimers-disease-ad   \n",
      "1                                     proc_angiogram   \n",
      "2                                  diag_osteoporosis   \n",
      "3  proc_NO TOPIC - wound-debridement_procedure_pr...   \n",
      "4                            diag_low-blood-pressure   \n",
      "5                                    diag_cellulitis   \n",
      "6                                        diag_cancer   \n",
      "7  proc_NO TOPIC - pneumococcal-vaccine_procedure...   \n",
      "8                   diag_uti-urinary-tract-infection   \n",
      "9                                  diag_heart-attack   \n",
      "\n",
      "                                          NEPHROLOGY  \n",
      "0                      diag_fluid-balance-conditions  \n",
      "1  diag_NO TOPIC - pre-existing-kidney-transplant...  \n",
      "2                               proc_physical-injury  \n",
      "3                                    proc_urine-test  \n",
      "4  proc_NO TOPIC - hospital-discharge-management_...  \n",
      "5                           diag_acute-renal-failure  \n",
      "6                                diag_kidney-failure  \n",
      "7          proc_minimally-invasive-treatment-options  \n",
      "8                              diag_vascular-disease  \n",
      "9                        diag_chronic-kidney-disease  \n",
      "------------------------------------------------\n",
      "Showing results for Support Vector Machine model \n",
      "------------------------------------------------\n",
      "Mean model accuracy using cross-validation (3-fold): 94.23%\n",
      "Top 10 associated factors with each speciality\n",
      "                 CARDIOVASCULAR DISEASE (CARDIOLOGY)  \\\n",
      "0                              diag_high-cholesterol   \n",
      "1                                 proc_critical-care   \n",
      "2  proc_NO TOPIC - qualitative-analysis_procedure...   \n",
      "3                            diag_radiologic-studies   \n",
      "4                                 diag_heart-failure   \n",
      "5                            proc_radiologic-studies   \n",
      "6                         proc_electrocardiogram-ekg   \n",
      "7                                proc_echocardiogram   \n",
      "8                 proc_diagnostic-tests-and-services   \n",
      "9                                 diag_heart-disease   \n",
      "\n",
      "                                GASTROENTEROLOGY  \\\n",
      "0                          proc_vascular-disease   \n",
      "1                diag_inflammatory-bowel-disease   \n",
      "2                               diag_hepatitis-c   \n",
      "3                                  proc_biopsies   \n",
      "4                        diag_infectious-disease   \n",
      "5                     proc_colonoscopy-screening   \n",
      "6                               proc_colonoscopy   \n",
      "7                                 diag_hepatitis   \n",
      "8  proc_minimally-invasive-diagnostic-procedures   \n",
      "9                           diag_liver-condition   \n",
      "\n",
      "                                  GERIATRIC MEDICINE  \\\n",
      "0                proc_non-invasive-treatment-options   \n",
      "1                                      diag_dementia   \n",
      "2                    diag_musculoskeletal-conditions   \n",
      "3                   proc_hospice-and-palliative-care   \n",
      "4                              proc_physical-therapy   \n",
      "5  proc_NO TOPIC - hospital-discharge-management_...   \n",
      "6                        diag_respiratory-conditions   \n",
      "7                                 diag_mental-health   \n",
      "8                       diag_neurological-conditions   \n",
      "9  proc_NO TOPIC - nursing-facility-care_encounte...   \n",
      "\n",
      "                                          NEPHROLOGY  \n",
      "0                                        diag_anemia  \n",
      "1                                    proc_urine-test  \n",
      "2                           diag_acute-renal-failure  \n",
      "3                              diag_vascular-disease  \n",
      "4                                     proc_lab-tests  \n",
      "5                                diag_kidney-failure  \n",
      "6                        proc_peritoneal-dialysis-pd  \n",
      "7  diag_NO TOPIC - pre-existing-kidney-transplant...  \n",
      "8          proc_minimally-invasive-treatment-options  \n",
      "9                        diag_chronic-kidney-disease  \n"
     ]
    }
   ],
   "source": [
    "import numpy as np\n",
    "import matplotlib.pyplot as plt\n",
    "import pandas as pd\n",
    "from sklearn.model_selection import cross_val_score, train_test_split\n",
    "from sklearn.ensemble import RandomForestClassifier, GradientBoostingClassifier\n",
    "from sklearn.preprocessing import LabelEncoder\n",
    "from sklearn.decomposition import PCA\n",
    "from sklearn.linear_model import LogisticRegression, RidgeClassifier\n",
    "from sklearn.svm import SVC, LinearSVC\n",
    "from sklearn.model_selection import GridSearchCV\n",
    "from sklearn.cross_validation import KFold\n",
    "\n",
    "# Read doctor data into Python\n",
    "physicianPatientFeatures = pd.DataFrame.from_csv('physician_patient_features.csv').sort_index();\n",
    "physicianSpecialty       = pd.DataFrame.from_csv('physician_specialty.csv'       );\n",
    "physicianTopicFrequency  = pd.DataFrame.from_csv('physician_topic_frequency.csv' );\n",
    "\n",
    "# Consider only data with common doctors in all 3 datasets\n",
    "validDoctors = np.intersect1d(np.intersect1d(physicianPatientFeatures.index.unique(),\\\n",
    "                                             physicianSpecialty.index.unique()),     \\\n",
    "                                             physicianTopicFrequency.index.unique())\n",
    "physicianPatientFeatures = physicianPatientFeatures.loc[validDoctors]\n",
    "physicianSpecialty       = physicianSpecialty.loc[validDoctors]\n",
    "physicianTopicFrequency  = physicianTopicFrequency.loc[validDoctors]\n",
    "\n",
    "# Drop duplicate entries\n",
    "physicianPatientFeatures = physicianPatientFeatures[~physicianPatientFeatures.index.duplicated(keep='first')]; # drops duplicate entry\n",
    "physicianSpecialty       = physicianSpecialty[~physicianSpecialty.index.duplicated(keep='first')]; # drops duplicate entry\n",
    "physicianTopicFrequency  = physicianTopicFrequency[~physicianTopicFrequency.index.duplicated(keep='first')]; # drops duplicate entry\n",
    "                                         \n",
    "# Verify that there are 4 specialities\n",
    "#print physicianSpecialty['specialty'].unique()\n",
    "\n",
    "# Convert specialty values to discrete integer values\n",
    "yLabeled = physicianSpecialty['specialty'].values;\n",
    "physicianSpecialtyEncoder = LabelEncoder();\n",
    "y = physicianSpecialtyEncoder.fit_transform(yLabeled)\n",
    "\n",
    "# Setup features. First will add the physicianTopicFrequency, compute PCA to reduce the dimensions (optional), and then add age and gender\n",
    "usePCA = False;\n",
    "X = physicianTopicFrequency.values.copy();\n",
    "if usePCA: # use this to reduce the number of features in the physician topic frequency to a more manageable number (i.e. avoid overfitting)\n",
    "    pca=PCA();\n",
    "    pca.fit_transform(X)\n",
    "    cumulativeVarianceExplained=np.cumsum(pca.explained_variance_/np.sum(pca.explained_variance_));\n",
    "    nComponents = (cumulativeVarianceExplained>0.999).argmax();\n",
    "    X = X[:,range(nComponents)]\n",
    "    print(\"{} PCA factors explain 99.9% of the dataset variance\".format(nComponents))\n",
    "X = np.concatenate([X,physicianPatientFeatures[['median_age','frac_population_female']].values],axis=1);\n",
    "    \n",
    "# Select a model\n",
    "for modelType in ['Logistic Regression','Support Vector Machine']:\n",
    "    if modelType == 'Logistic Regression':\n",
    "        clf = LogisticRegression();\n",
    "        parameters = {'C':[10, 100, 1000, 10000, 100000, 1000000, 10000000]}\n",
    "        estimator  = GridSearchCV(clf,parameters)\n",
    "    if modelType == 'Ridge Classification':\n",
    "        clf = RidgeClassifier();\n",
    "        parameters = {'alpha':[1E-3, 1E-2, 1E-1, 1E0, 1E1, 1E2, 1E3]}\n",
    "        estimator  = GridSearchCV(clf,parameters)\n",
    "    elif modelType == 'Support Vector Machine':\n",
    "        clf        = LinearSVC();\n",
    "        parameters = {'C':[10, 100, 1000, 10000, 100000, 1000000]} \n",
    "        estimator  = GridSearchCV(clf,parameters)\n",
    "    elif modelType == 'Random Forest':\n",
    "        clf = GradientBoostingClassifier()\n",
    "        parameters = {'learning_rate':[0.1], 'max_depth':[3,4], 'n_estimators':[50,100]}\n",
    "        estimator  = GridSearchCV(clf,parameters)\n",
    "    print(\"------------------------------------------------\")\n",
    "    print(\"Showing results for {} model \".format(modelType))\n",
    "    print(\"------------------------------------------------\")\n",
    "\n",
    "    # Fit data to model using 3-fold cross-validation    \n",
    "    n_folds = 3;\n",
    "    kf = KFold(X.shape[0], n_folds=n_folds)\n",
    "    modelAccuracy = np.zeros([n_folds,1]);\n",
    "    for i, (train_index, test_index) in enumerate(kf):\n",
    "        estimator.fit(X[train_index,:],y[train_index])\n",
    "        modelAccuracy[i] = np.mean(estimator.predict(X[test_index,:])==y[test_index]); #np.sqrt(np.mean((clf.predict(X[test_index,:])-y[test_index])**2));\n",
    "    print(\"Mean model accuracy using cross-validation (3-fold): {:4.2f}%\".format(100*np.mean(modelAccuracy)))\n",
    "\n",
    "    # Show the Top 10 features associated with each speciality\n",
    "    topFeatures=10;\n",
    "    mostAssociatedFeatures = estimator.best_estimator_.coef_.argsort(axis=1)[:,-(topFeatures+1):-1].T;\n",
    "    featureNames = physicianTopicFrequency.columns;\n",
    "    featureNames.append(np.array(['median_age','frac_population_female']).astype('object'))\n",
    "    print(\"Top {} associated factors with each speciality\".format(topFeatures))\n",
    "    print pd.DataFrame(featureNames[mostAssociatedFeatures],index=range(topFeatures),columns=physicianSpecialtyEncoder.classes_)  "
   ]
  },
  {
   "cell_type": "code",
   "execution_count": null,
   "metadata": {
    "collapsed": true
   },
   "outputs": [],
   "source": []
  }
 ],
 "metadata": {
  "anaconda-cloud": {},
  "kernelspec": {
   "display_name": "Python [conda root]",
   "language": "python",
   "name": "conda-root-py"
  },
  "language_info": {
   "codemirror_mode": {
    "name": "ipython",
    "version": 2
   },
   "file_extension": ".py",
   "mimetype": "text/x-python",
   "name": "python",
   "nbconvert_exporter": "python",
   "pygments_lexer": "ipython2",
   "version": "2.7.12"
  }
 },
 "nbformat": 4,
 "nbformat_minor": 1
}
