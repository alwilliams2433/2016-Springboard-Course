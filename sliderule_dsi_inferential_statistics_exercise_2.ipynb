{
 "cells": [
  {
   "cell_type": "markdown",
   "metadata": {},
   "source": [
    "\n",
    "### Examining racial discrimination in the US job market\n",
    "\n",
    "#### Background\n",
    "Racial discrimination continues to be pervasive in cultures throughout the world. Researchers examined the level of racial discrimination in the United States labor market by randomly assigning identical résumés black-sounding or white-sounding names and observing the impact on requests for interviews from employers.\n",
    "\n",
    "#### Data\n",
    "In the dataset provided, each row represents a resume. The 'race' column has two values, 'b' and 'w', indicating black-sounding and white-sounding. The column 'call' has two values, 1 and 0, indicating whether the resume received a call from employers or not.\n",
    "\n",
    "Note that the 'b' and 'w' values in race are assigned randomly to the resumes.\n",
    "\n",
    "#### Exercise\n",
    "You will perform a statistical analysis to establish whether race has a significant impact on the rate of callbacks for resumes.\n",
    "\n",
    "Answer the following questions **in this notebook below and submit to your Github account**. \n",
    "\n",
    "   1. What test is appropriate for this problem? Does CLT apply?\n",
    "   2. What are the null and alternate hypotheses?\n",
    "   3. Compute margin of error, confidence interval, and p-value.\n",
    "   4. Discuss statistical significance.\n",
    "\n",
    "You can include written notes in notebook cells using Markdown: \n",
    "   - In the control panel at the top, choose Cell > Cell Type > Markdown\n",
    "   - Markdown syntax: http://nestacms.com/docs/creating-content/markdown-cheat-sheet\n",
    "\n",
    "\n",
    "#### Resources\n",
    "+ Experiment information and data source: http://www.povertyactionlab.org/evaluation/discrimination-job-market-united-states\n",
    "+ Scipy statistical methods: http://docs.scipy.org/doc/scipy/reference/stats.html \n",
    "+ Markdown syntax: http://nestacms.com/docs/creating-content/markdown-cheat-sheet\n",
    "\n",
    "****"
   ]
  },
  {
   "cell_type": "code",
   "execution_count": 49,
   "metadata": {
    "collapsed": false
   },
   "outputs": [],
   "source": [
    "import pandas as pd\n",
    "import numpy as np\n",
    "from scipy import stats\n",
    "\n",
    "useFullPath=True;\n",
    "if useFullPath:\n",
    "    data = pd.io.stata.read_stata('C:\\Users\\dwhitney\\Desktop\\Springboard Course\\Course Notes\\Mini-projects\\statistics project 2\\data\\us_job_market_discrimination.dta')    \n",
    "else:\n",
    "    data = pd.io.stata.read_stata('data/us_job_market_discrimination.dta')"
   ]
  },
  {
   "cell_type": "markdown",
   "metadata": {
    "collapsed": true
   },
   "source": [
    "# 1.) What test is appropriate for this problem? Does CLT apply?\n",
    "A z-test is the most appropriate choice for this problem. This is because the central limit theorem does apply to this problem because the theorem states that the sum of a large number of independent, identically distributed variables will be approximately normal, **regardless of the underlying distribution** (even binomial distributions).\n",
    "\n",
    "# 2.) What are the null and alternate hypotheses?\n",
    "The null hypothesis would state that race is not a significant factor in the number of callbacks, whereas the alternate hypothesis would claim that race is a significant factor (two-tail). To test between these two possibilities, we can construct a null distribution where the percentage of callblacks is blind to race. We find that the base probability of a callbacks (independent of race) is:"
   ]
  },
  {
   "cell_type": "code",
   "execution_count": 56,
   "metadata": {
    "collapsed": false
   },
   "outputs": [
    {
     "data": {
      "text/plain": [
       "'Percentage of callbacks = 8.049%'"
      ]
     },
     "execution_count": 56,
     "metadata": {},
     "output_type": "execute_result"
    }
   ],
   "source": [
    "p = sum(data.call)/len(data);\n",
    "\"Percentage of callbacks = {:5.4}%\".format(100*p)"
   ]
  },
  {
   "cell_type": "markdown",
   "metadata": {},
   "source": [
    "# 3.) Compute margin of error, confidence interval, and p-value.\n",
    "Now we can test whether the number of race-related callbacks (our alternatate hypothesis) is different from our null distribution. We will specifically use a one-sample z-test to test whether the callback for blacks significantly differs from a null distribution, in which callbacks are blind to race. The parameters for the null distribution will be that: a.) the distribution is normal, b.) the number of sample will be matched to the number of black related calls (n=2435), and c.) the probability of a successful callback is blind to race (p=8.049%)."
   ]
  },
  {
   "cell_type": "code",
   "execution_count": 57,
   "metadata": {
    "collapsed": false
   },
   "outputs": [
    {
     "data": {
      "text/plain": [
       "'zStatistic = 2.9050860929'"
      ]
     },
     "metadata": {},
     "output_type": "display_data"
    }
   ],
   "source": [
    "from IPython.display import display\n",
    "\n",
    "n_CallBacks = sum(data[data.race=='b'].call);\n",
    "n = sum(data.race=='b');\n",
    "p = sum(data.call)/len(data);\n",
    "meanOfNormalDistribution = n*p;\n",
    "stdDeviationOfNormalDistribution = np.sqrt(n*p*(1-p));\n",
    "zStatistic = np.abs((n_CallBacks - meanOfNormalDistribution)/stdDeviationOfNormalDistribution)\n",
    "display(\"zStatistic = {}\".format(zStatistic))"
   ]
  },
  {
   "cell_type": "markdown",
   "metadata": {},
   "source": [
    "As the computed z-statistic is greater than 1.96, the critical value of significance for our stastistical test (95% confidence, where a=0.1), we can then conclude that race significantly contributes the rate of callbacks. Next we'll compute how the number of race-related callbacks compares against the margin of error and 95% confidence intervals for our null distribution:"
   ]
  },
  {
   "cell_type": "code",
   "execution_count": 58,
   "metadata": {
    "collapsed": false
   },
   "outputs": [
    {
     "data": {
      "text/plain": [
       "'Actual number of race-related callbacks = 157.0'"
      ]
     },
     "metadata": {},
     "output_type": "display_data"
    },
    {
     "data": {
      "text/plain": [
       "'Margin of error for null distribution = 0.53'"
      ]
     },
     "metadata": {},
     "output_type": "display_data"
    },
    {
     "data": {
      "text/plain": [
       "'95% confidence intervals for null distribution = [195.47,196.53]'"
      ]
     },
     "metadata": {},
     "output_type": "display_data"
    }
   ],
   "source": [
    "marginOfError=1.96*(stdDeviationOfNormalDistribution/np.sqrt(n));\n",
    "display('Actual number of race-related callbacks = {}'.format(n_CallBacks))\n",
    "display('Margin of error for null distribution = {:04.2f}'.format(marginOfError));\n",
    "display('95% confidence intervals for null distribution = [{:04.2f},{:04.2f}]'.format(meanOfNormalDistribution-marginOfError,meanOfNormalDistribution+marginOfError))"
   ]
  },
  {
   "cell_type": "markdown",
   "metadata": {},
   "source": [
    "Next we'll compute how significant our effect is by converting our z-statistic to a p-value:"
   ]
  },
  {
   "cell_type": "code",
   "execution_count": 59,
   "metadata": {
    "collapsed": false
   },
   "outputs": [
    {
     "data": {
      "text/plain": [
       "'p-value = 0.00367152095404'"
      ]
     },
     "metadata": {},
     "output_type": "display_data"
    }
   ],
   "source": [
    "p_value = stats.norm.sf(abs(zStatistic))*2 #twosided\n",
    "display('p-value = {}'.format(p_value))"
   ]
  },
  {
   "cell_type": "markdown",
   "metadata": {},
   "source": [
    "# 4.) Discuss statistical significance. \n",
    "As our p-value is 0.003, the chance of this effect arising from random fluctuations is less than 1 in 272. Per convention statistically significant effects must have p-values less than either p=0.01 or p=0.05. As our p-value is much lower than either of these cutoffs, we can safely conclude that the number of race-related callbacks for blacks is significantly less than would be expected if race was not a contributing factor."
   ]
  }
 ],
 "metadata": {
  "kernelspec": {
   "display_name": "Python 2",
   "language": "python",
   "name": "python2"
  },
  "language_info": {
   "codemirror_mode": {
    "name": "ipython",
    "version": 2
   },
   "file_extension": ".py",
   "mimetype": "text/x-python",
   "name": "python",
   "nbconvert_exporter": "python",
   "pygments_lexer": "ipython2",
   "version": "2.7.11"
  }
 },
 "nbformat": 4,
 "nbformat_minor": 0
}
