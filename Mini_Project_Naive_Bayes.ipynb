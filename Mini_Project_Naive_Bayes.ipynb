{
 "cells": [
  {
   "cell_type": "markdown",
   "metadata": {},
   "source": [
    "# Basic text classification with Naive Bayes\n",
    "***\n",
    "In the mini-project, you'll learn the basics of text analysis using a subset of movie reviews from the rotten tomatoes database. You'll also use a fundamental technique in Bayesian inference, called Naive Bayes. This mini-project is based on [Lab 10 of Harvard's CS109](https://github.com/cs109/2015lab10) class.  Please free to go to the original lab for additional exercises and solutions."
   ]
  },
  {
   "cell_type": "code",
   "execution_count": 1,
   "metadata": {
    "collapsed": false
   },
   "outputs": [],
   "source": [
    "%matplotlib inline\n",
    "import numpy as np\n",
    "import scipy as sp\n",
    "import matplotlib as mpl\n",
    "import matplotlib.cm as cm\n",
    "import matplotlib.pyplot as plt\n",
    "import pandas as pd\n",
    "pd.set_option('display.width', 500)\n",
    "pd.set_option('display.max_columns', 100)\n",
    "pd.set_option('display.notebook_repr_html', True)\n",
    "import seaborn as sns\n",
    "sns.set_style(\"whitegrid\")\n",
    "sns.set_context(\"poster\")"
   ]
  },
  {
   "cell_type": "markdown",
   "metadata": {},
   "source": [
    "# Table of Contents\n",
    "* [Basic text classification with Naive Bayes](#BOW-model-and-Naive-Bayes)\n",
    "\t* [Rotten Tomatoes data set](#Rotten-Tomatoes-data-set)\n",
    "\t\t* [Explore](#Explore)\n",
    "\t* [The Vector space model and a search engine.](#The-Vector-space-model-and-a-search-engine.)\n",
    "\t\t* [In Code](#In-Code)\n",
    "\t* [Naive Bayes](#Naive-Bayes)\n",
    "\t\t* [Cross-Validation and hyper-parameter fitting](#Cross-Validation-and-hyper-parameter-fitting)\n",
    "\t\t* [Work with the best params](#Work-with-the-best-params)\n",
    "\t* [Interpretation](#Interpretation)\n",
    "\t* [Ideas to improve](#To-improve:)\n"
   ]
  },
  {
   "cell_type": "markdown",
   "metadata": {},
   "source": [
    "## Rotten Tomatoes data set"
   ]
  },
  {
   "cell_type": "code",
   "execution_count": 2,
   "metadata": {
    "collapsed": false
   },
   "outputs": [
    {
     "data": {
      "text/html": [
       "<div>\n",
       "<table border=\"1\" class=\"dataframe\">\n",
       "  <thead>\n",
       "    <tr style=\"text-align: right;\">\n",
       "      <th></th>\n",
       "      <th>critic</th>\n",
       "      <th>fresh</th>\n",
       "      <th>imdb</th>\n",
       "      <th>publication</th>\n",
       "      <th>quote</th>\n",
       "      <th>review_date</th>\n",
       "      <th>rtid</th>\n",
       "      <th>title</th>\n",
       "    </tr>\n",
       "  </thead>\n",
       "  <tbody>\n",
       "    <tr>\n",
       "      <th>1</th>\n",
       "      <td>Derek Adams</td>\n",
       "      <td>fresh</td>\n",
       "      <td>114709</td>\n",
       "      <td>Time Out</td>\n",
       "      <td>So ingenious in concept, design and execution ...</td>\n",
       "      <td>2009-10-04</td>\n",
       "      <td>9559</td>\n",
       "      <td>Toy story</td>\n",
       "    </tr>\n",
       "    <tr>\n",
       "      <th>2</th>\n",
       "      <td>Richard Corliss</td>\n",
       "      <td>fresh</td>\n",
       "      <td>114709</td>\n",
       "      <td>TIME Magazine</td>\n",
       "      <td>The year's most inventive comedy.</td>\n",
       "      <td>2008-08-31</td>\n",
       "      <td>9559</td>\n",
       "      <td>Toy story</td>\n",
       "    </tr>\n",
       "    <tr>\n",
       "      <th>3</th>\n",
       "      <td>David Ansen</td>\n",
       "      <td>fresh</td>\n",
       "      <td>114709</td>\n",
       "      <td>Newsweek</td>\n",
       "      <td>A winning animated feature that has something ...</td>\n",
       "      <td>2008-08-18</td>\n",
       "      <td>9559</td>\n",
       "      <td>Toy story</td>\n",
       "    </tr>\n",
       "    <tr>\n",
       "      <th>4</th>\n",
       "      <td>Leonard Klady</td>\n",
       "      <td>fresh</td>\n",
       "      <td>114709</td>\n",
       "      <td>Variety</td>\n",
       "      <td>The film sports a provocative and appealing st...</td>\n",
       "      <td>2008-06-09</td>\n",
       "      <td>9559</td>\n",
       "      <td>Toy story</td>\n",
       "    </tr>\n",
       "    <tr>\n",
       "      <th>5</th>\n",
       "      <td>Jonathan Rosenbaum</td>\n",
       "      <td>fresh</td>\n",
       "      <td>114709</td>\n",
       "      <td>Chicago Reader</td>\n",
       "      <td>An entertaining computer-generated, hyperreali...</td>\n",
       "      <td>2008-03-10</td>\n",
       "      <td>9559</td>\n",
       "      <td>Toy story</td>\n",
       "    </tr>\n",
       "  </tbody>\n",
       "</table>\n",
       "</div>"
      ],
      "text/plain": [
       "               critic  fresh    imdb     publication                                              quote review_date  rtid      title\n",
       "1         Derek Adams  fresh  114709        Time Out  So ingenious in concept, design and execution ...  2009-10-04  9559  Toy story\n",
       "2     Richard Corliss  fresh  114709   TIME Magazine                  The year's most inventive comedy.  2008-08-31  9559  Toy story\n",
       "3         David Ansen  fresh  114709        Newsweek  A winning animated feature that has something ...  2008-08-18  9559  Toy story\n",
       "4       Leonard Klady  fresh  114709         Variety  The film sports a provocative and appealing st...  2008-06-09  9559  Toy story\n",
       "5  Jonathan Rosenbaum  fresh  114709  Chicago Reader  An entertaining computer-generated, hyperreali...  2008-03-10  9559  Toy story"
      ]
     },
     "execution_count": 2,
     "metadata": {},
     "output_type": "execute_result"
    }
   ],
   "source": [
    "critics = pd.read_csv('./critics.csv')\n",
    "#let's drop rows with missing quotes\n",
    "critics = critics[~critics.quote.isnull()]\n",
    "critics.head()"
   ]
  },
  {
   "cell_type": "markdown",
   "metadata": {},
   "source": [
    "### Explore"
   ]
  },
  {
   "cell_type": "code",
   "execution_count": 3,
   "metadata": {
    "collapsed": false
   },
   "outputs": [
    {
     "name": "stdout",
     "output_type": "stream",
     "text": [
      "Number of reviews: 15561\n",
      "Number of critics: 623\n",
      "Number of movies:  1921\n"
     ]
    }
   ],
   "source": [
    "n_reviews = len(critics)\n",
    "n_movies = critics.rtid.unique().size\n",
    "n_critics = critics.critic.unique().size\n",
    "\n",
    "\n",
    "print \"Number of reviews: %i\" % n_reviews\n",
    "print \"Number of critics: %i\" % n_critics\n",
    "print \"Number of movies:  %i\" % n_movies"
   ]
  },
  {
   "cell_type": "code",
   "execution_count": 4,
   "metadata": {
    "collapsed": false
   },
   "outputs": [
    {
     "data": {
      "image/png": "[encoded data removed]",
      "text/plain": [
       "<matplotlib.figure.Figure at 0xb36dba8>"
      ]
     },
     "metadata": {},
     "output_type": "display_data"
    }
   ],
   "source": [
    "df = critics.copy()\n",
    "df['fresh'] = df.fresh == 'fresh'\n",
    "grp = df.groupby('critic')\n",
    "counts = grp.critic.count()  # number of reviews by each critic\n",
    "means = grp.fresh.mean()     # average freshness for each critic\n",
    "\n",
    "means[counts > 100].hist(bins=10, edgecolor='w', lw=2)\n",
    "plt.xlabel(\"Average rating per critic\")\n",
    "plt.ylabel(\"N\")\n",
    "plt.yticks([0, 2, 4, 6, 8, 10]);"
   ]
  },
  {
   "cell_type": "markdown",
   "metadata": {},
   "source": [
    "## The Vector space model and a search engine."
   ]
  },
  {
   "cell_type": "markdown",
   "metadata": {},
   "source": [
    "All the diagrams here are snipped from\n",
    "See http://nlp.stanford.edu/IR-book/ which is a great resource on Text processing.\n",
    "\n",
    "Also check out Python packages nltk, spacy, and pattern, and their associated resources.\n",
    "\n",
    "Let us define the vector derived from document d by $\\bar V(d)$. What does this mean? Each document is considered to be a vector made up from a vocabulary, where there is one axis for each term in the vocabulary.\n",
    "\n",
    "To define the vocabulary, we take a union of all words we have seen in all documents. We then just associate an array index with them. So \"hello\" may be at index 5 and \"world\" at index 99.\n",
    "\n",
    "Then the document\n",
    "\n",
    "\"hello world world\"\n",
    "\n",
    "would be indexed as\n",
    "\n",
    "`[(5,1),(99,2)]`\n",
    "\n",
    "along with a dictionary\n",
    "\n",
    "``\n",
    "5: Hello\n",
    "99: World\n",
    "``\n",
    "\n",
    "so that you can see that our representation is one of a sparse array.\n",
    "\n",
    "Then, a set of documents becomes, in the usual `sklearn` style, a sparse matrix with rows being sparse arrays and columns \"being\" the features, ie the vocabulary. I put \"being\" in quites as the layout in memort is that of a matrix with many 0's, but, rather, we use the sparse representation we talked about above.\n",
    "\n",
    "Notice that this representation loses the relative ordering of the terms in the document. That is \"cat ate rat\" and \"rat ate cat\" are the same. Thus, this representation is also known as the Bag-Of-Words representation.\n",
    "\n",
    "Here is another example, from the book quoted above, although the matrix is transposed here so that documents are columns:\n",
    "\n",
    "![novel terms](terms.png)\n",
    "\n",
    "Such a matrix is also catted a Term-Document Matrix. Here, the terms being indexed could be stemmed before indexing; for instance, jealous and jealousy after stemming are the same feature. One could also make use of other \"Natural Language Processing\" transformations in constructing the vocabulary. We could use Lemmatization, which reduces words to lemmas: work, working, worked would all reduce to work. We could remove \"stopwords\" from our vocabulary, such as common words like \"the\". We could look for particular parts of speech, such as adjectives. This is often done in Sentiment Analysis. And so on. It all deoends on our application.\n",
    "\n",
    "From the book:\n",
    ">The standard way of quantifying the similarity between two documents $d_1$ and $d_2$  is to compute the cosine similarity of their vector representations $\\bar V(d_1)$ and $\\bar V(d_2)$:\n",
    "\n",
    "$$S_{12} = \\frac{\\bar V(d_1) \\cdot \\bar V(d_2)}{|\\bar V(d_1)| \\times |\\bar V(d_2)|}$$\n",
    "\n",
    "![Vector Space Model](vsm.png)\n",
    "\n",
    "\n",
    ">There is a far more compelling reason to represent documents as vectors: we can also view a query as a vector. Consider the query q = jealous gossip. This query turns into the unit vector $\\bar V(q)$ = (0, 0.707, 0.707) on the three coordinates below. \n",
    "\n",
    "![novel terms](terms2.png)\n",
    "\n",
    ">The key idea now: to assign to each document d a score equal to the dot product:\n",
    "\n",
    "$$\\bar V(q) \\cdot \\bar V(d)$$\n",
    "\n",
    "This we can use this simple Vector Model as a Search engine."
   ]
  },
  {
   "cell_type": "markdown",
   "metadata": {},
   "source": [
    "### In Code"
   ]
  },
  {
   "cell_type": "code",
   "execution_count": 5,
   "metadata": {
    "collapsed": false
   },
   "outputs": [
    {
     "name": "stdout",
     "output_type": "stream",
     "text": [
      "Original text is\n",
      "Hop on pop\n",
      "Hop off pop\n",
      "Hop Hop hop\n",
      "\n",
      "Transformed text vector is \n",
      "[[1 0 1 1]\n",
      " [1 1 0 1]\n",
      " [3 0 0 0]]\n",
      "\n",
      "Words for each feature:\n",
      "[u'hop', u'off', u'on', u'pop']\n"
     ]
    }
   ],
   "source": [
    "from sklearn.feature_extraction.text import CountVectorizer\n",
    "\n",
    "text = ['Hop on pop', 'Hop off pop', 'Hop Hop hop']\n",
    "print \"Original text is\\n\", '\\n'.join(text)\n",
    "\n",
    "vectorizer = CountVectorizer(min_df=0)\n",
    "\n",
    "# call `fit` to build the vocabulary\n",
    "vectorizer.fit(text)\n",
    "\n",
    "# call `transform` to convert text to a bag of words\n",
    "x = vectorizer.transform(text)\n",
    "\n",
    "# CountVectorizer uses a sparse array to save memory, but it's easier in this assignment to \n",
    "# convert back to a \"normal\" numpy array\n",
    "x = x.toarray()\n",
    "\n",
    "print\n",
    "print \"Transformed text vector is \\n\", x\n",
    "\n",
    "# `get_feature_names` tracks which word is associated with each column of the transformed x\n",
    "print\n",
    "print \"Words for each feature:\"\n",
    "print vectorizer.get_feature_names()\n",
    "\n",
    "# Notice that the bag of words treatment doesn't preserve information about the *order* of words, \n",
    "# just their frequency"
   ]
  },
  {
   "cell_type": "code",
   "execution_count": 6,
   "metadata": {
    "collapsed": false
   },
   "outputs": [],
   "source": [
    "def make_xy(critics, vectorizer=None):\n",
    "    #Your code here    \n",
    "    if vectorizer is None:\n",
    "        vectorizer = CountVectorizer()\n",
    "    X = vectorizer.fit_transform(critics.quote)\n",
    "    X = X.tocsc()  # some versions of sklearn return COO format\n",
    "    y = (critics.fresh == 'fresh').values.astype(np.int)\n",
    "    return X, y\n",
    "X, y = make_xy(critics)"
   ]
  },
  {
   "cell_type": "markdown",
   "metadata": {},
   "source": [
    "## Naive Bayes"
   ]
  },
  {
   "cell_type": "markdown",
   "metadata": {},
   "source": [
    "$$P(c|d) \\propto P(d|c) P(c) $$\n",
    "\n",
    "$$P(d|c)  = \\prod_k P(t_k | c) $$\n",
    "\n",
    "the conditional independence assumption.\n",
    "\n",
    "Then we see that for which c is $P(c|d)$ higher.\n",
    "\n",
    "For floating point underflow we change the product into a sum by going into log space. So:\n",
    "\n",
    "$$log(P(d|c))  = \\sum_k log (P(t_k | c)) $$\n",
    "\n",
    "But we must also handle non-existent terms, we cant have 0's for them:\n",
    "\n",
    "$$P(t_k|c) = \\frac{N_{kc}+\\alpha}{N_c+\\alpha N_{feat}}$$"
   ]
  },
  {
   "cell_type": "markdown",
   "metadata": {},
   "source": [
    "**Your turn:** Implement a simple Naive Bayes classifier\n",
    "\n",
    "* Use `scikit-learn`'s `MultinomialNB()`  classifier with default parameters.\n",
    "* split the data set into a training and test set\n",
    "* train the classifier over the training set and test on the test set\n",
    "* print the accuracy scores for both the training and the test sets\n",
    "\n",
    "What do you notice? Is this a good classifier? If not, why not?"
   ]
  },
  {
   "cell_type": "code",
   "execution_count": 7,
   "metadata": {
    "collapsed": false
   },
   "outputs": [
    {
     "name": "stdout",
     "output_type": "stream",
     "text": [
      "Model accuracy using training dataset (containing 70% of samples): 0.9246\n",
      "Model accuracy using test dataset (containing 30% of samples): 0.7683\n",
      "Percent difference in accuracy between sets: -16.91%\n"
     ]
    },
    {
     "data": {
      "text/plain": [
       "<matplotlib.text.Text at 0xd7a5320>"
      ]
     },
     "execution_count": 7,
     "metadata": {},
     "output_type": "execute_result"
    },
    {
     "data": {
      "image/png": "[encoded data removed]",
      "text/plain": [
       "<matplotlib.figure.Figure at 0xd93aa20>"
      ]
     },
     "metadata": {},
     "output_type": "display_data"
    }
   ],
   "source": [
    "#your turn\n",
    "import numpy as np\n",
    "from sklearn import naive_bayes, cross_validation\n",
    "\n",
    "# Setup our naive bayes model (with cross validation using training/test sets)\n",
    "X_train, X_test, y_train, y_test = cross_validation.train_test_split(X,y,test_size=0.3, random_state=1);\n",
    "clf = naive_bayes.MultinomialNB();\n",
    "clf.fit(X_train,y_train);\n",
    "\n",
    "# Let's see how well the model predicts the test set\n",
    "accuracy_TrainingSet = clf.score(X_train,y_train);\n",
    "accuracy_TestSet     = clf.score(X_test,y_test);\n",
    "print 'Model accuracy using training dataset (containing 70% of samples): {:5.4}'.format(accuracy_TrainingSet)\n",
    "print 'Model accuracy using test dataset (containing 30% of samples): {:5.4}'.format(accuracy_TestSet)\n",
    "print 'Percent difference in accuracy between sets: {:5.4}%'.format(100*(accuracy_TestSet-accuracy_TrainingSet)/accuracy_TrainingSet)\n",
    "\n",
    "# Next let's systematically loop through different proportions allocated to the test/train sets\n",
    "train_size_array = np.linspace(0.01,0.99,99);\n",
    "accuracyScores  = np.zeros([len(train_size_array),2])\n",
    "for [index,train_size] in enumerate(train_size_array):\n",
    "    X_train, X_test, y_train, y_test = cross_validation.train_test_split(X,y,train_size=train_size, random_state=1);\n",
    "    clf.fit(X_train,y_train);\n",
    "    accuracyScores[index,0] = clf.score(X_train,y_train);\n",
    "    accuracyScores[index,1] = clf.score(X_test,y_test);\n",
    "\n",
    "# Plot the results    \n",
    "fig=plt.figure();\n",
    "axes=fig.add_axes();\n",
    "plt.plot(train_size_array,accuracyScores[:,0],label='Training dataset',color='r')\n",
    "plt.plot(train_size_array,accuracyScores[:,1],label='Test dataset',color='b')\n",
    "plt.legend();\n",
    "plt.ylim([0.5,1])\n",
    "plt.ylabel('Model accuracy');\n",
    "plt.xlabel('Proportion of samples contained in training dataset')"
   ]
  },
  {
   "cell_type": "markdown",
   "metadata": {},
   "source": [
    "Based on accuracy, our simple Naive Bayes classifier does not classify too well. While the classifier performs well on the training dataset (>0.9), the classifier fails to generalize on training sets where performance ranges between 0.6-0.8 depending on the training set size. \n",
    "\n",
    "Because there is consistent improvement in the classifier by increasing the training set size, this likely means that features (i.e. words) are being used differently across reviews that makes it hard for the model to accurately classify whether a given review is fresh/rotten merely by the presence of words alone. For example, one critic might give a rotten rating with \"This movie is not this director's best film, but has some moments worth watching.\" But this review could be changed to make it a Fresh Rating too: \"Some moments are not worth watching, but this movie is this director's best film.\" The underlying problem is that stronger content words (\"not\", \"worth\", and \"best\") can sometimes be shared equally by two very different ratings (either fresh or rotten). Thus, sometimes more context between words is needed than merely just their presence in a review, especially if the review is borderline Fresh/rotten. That's because we should expect that both positive and negative words are likely to be used together in mixed/borderline reviews. "
   ]
  },
  {
   "cell_type": "markdown",
   "metadata": {},
   "source": [
    "### Cross-Validation and hyper-parameter fitting"
   ]
  },
  {
   "cell_type": "markdown",
   "metadata": {},
   "source": [
    "We use `KFold` instead of `GridSearchCV` here as we will want to also set parameters in the CountVectorizer."
   ]
  },
  {
   "cell_type": "code",
   "execution_count": 8,
   "metadata": {
    "collapsed": false
   },
   "outputs": [],
   "source": [
    "from sklearn.cross_validation import KFold\n",
    "def cv_score(clf, X, y, scorefunc):\n",
    "    result = 0.\n",
    "    nfold = 5\n",
    "    for train, test in KFold(y.size, nfold): # split data into train/test groups, 5 times\n",
    "        clf.fit(X[train], y[train]) # fit\n",
    "        result += scorefunc(clf, X[test], y[test]) # evaluate score function on held-out data\n",
    "    return result / nfold # average"
   ]
  },
  {
   "cell_type": "markdown",
   "metadata": {},
   "source": [
    "We use the log-likelihood as the score here in `scorefunc`. Indeed, what we do in `cv_score` above is to implement the cross-validation part of `GridSearchCV`.\n",
    "\n",
    "Since Naive Bayes classifiers are often used in asymmetric situations, it might help to actually maximize probability on the validation folds rather than just accuracy.\n",
    "\n",
    "Notice something else about using a custom score function. It allows us to do a lot of the choices with the Decision risk we care about (-profit for example) directly on the validation set. You will often find people using `roc_auc`, precision, recall, or `F1-score` as risks or scores."
   ]
  },
  {
   "cell_type": "code",
   "execution_count": 9,
   "metadata": {
    "collapsed": false
   },
   "outputs": [],
   "source": [
    "def log_likelihood(clf, x, y):\n",
    "    prob = clf.predict_log_proba(x)\n",
    "    rotten = y == 0\n",
    "    fresh = ~rotten\n",
    "    return prob[rotten, 0].sum() + prob[fresh, 1].sum()"
   ]
  },
  {
   "cell_type": "markdown",
   "metadata": {},
   "source": [
    "**Your turn:** What is using this function as the score mean? What are we trying to optimize for?"
   ]
  },
  {
   "cell_type": "markdown",
   "metadata": {},
   "source": [
    "The log-likelihood function is being used here to maximize true positives and true negatives. As each probability value is expressed as a logarithmic probability (i.e. a negative number), a more positive sum returned by this function indicates the confidence in true positives and true negatives by the classifier. This is because prob[rotten,0] will return the true negatives, while prob[fresh,1] will return the true positives."
   ]
  },
  {
   "cell_type": "markdown",
   "metadata": {},
   "source": [
    "We'll cross-validate over the regularization parameter $\\alpha$ and the `min_df` of the `CountVectorizer`.\n",
    "\n",
    ">min_df: When building the vocabulary ignore terms that have a document frequency strictly lower than the given threshold. This value is also called cut-off in the literature. If float, the parameter represents a proportion of documents, integer absolute counts. This parameter is ignored if vocabulary is not None."
   ]
  },
  {
   "cell_type": "markdown",
   "metadata": {},
   "source": [
    "Lets set up the train and test masks first:"
   ]
  },
  {
   "cell_type": "code",
   "execution_count": 10,
   "metadata": {
    "collapsed": true
   },
   "outputs": [],
   "source": [
    "from sklearn.cross_validation import train_test_split\n",
    "itrain, itest = train_test_split(xrange(critics.shape[0]), train_size=0.7, random_state=1)\n",
    "mask=np.ones(critics.shape[0], dtype='int')\n",
    "mask[itrain]=1\n",
    "mask[itest]=0\n",
    "mask = (mask==1)"
   ]
  },
  {
   "cell_type": "markdown",
   "metadata": {},
   "source": [
    "**Your turn:** \n",
    "    \n",
    "Using the skeleton code below, find the best values of the parameters `alpha` and `min_df`. \n",
    "Use the `cv_score` function above with the `log_likelihood` function for scoring."
   ]
  },
  {
   "cell_type": "code",
   "execution_count": 11,
   "metadata": {
    "collapsed": false
   },
   "outputs": [
    {
     "name": "stdout",
     "output_type": "stream",
     "text": [
      "alpha = 0.0, min_df = 0.00001, score =   nan, accuracy = 0.88\n",
      "alpha = 0.0, min_df = 0.00010, score =   nan, accuracy = 0.88\n",
      "alpha = 0.0, min_df = 0.00100, score =   nan, accuracy = 0.79\n",
      "alpha = 0.0, min_df = 0.01000, score = -1381.94, accuracy = 0.66\n",
      "alpha = 0.0, min_df = 0.10000, score = -1446.22, accuracy = 0.61\n",
      "alpha = 0.1, min_df = 0.00001, score = -1906.45, accuracy = 0.91\n",
      "alpha = 0.1, min_df = 0.00010, score = -1907.37, accuracy = 0.90\n",
      "alpha = 0.1, min_df = 0.00100, score = -1364.36, accuracy = 0.79\n",
      "alpha = 0.1, min_df = 0.01000, score = -1381.84, accuracy = 0.66\n",
      "alpha = 0.1, min_df = 0.10000, score = -1446.22, accuracy = 0.61\n",
      "alpha = 1.0, min_df = 0.00001, score = -1321.53, accuracy = 0.89\n",
      "alpha = 1.0, min_df = 0.00010, score = -1283.43, accuracy = 0.88\n",
      "alpha = 1.0, min_df = 0.00100, score = -1270.02, accuracy = 0.79\n",
      "alpha = 1.0, min_df = 0.01000, score = -1380.98, accuracy = 0.66\n",
      "alpha = 1.0, min_df = 0.10000, score = -1446.22, accuracy = 0.61\n",
      "alpha = 5.0, min_df = 0.00001, score = -2135.20, accuracy = 0.71\n",
      "alpha = 5.0, min_df = 0.00010, score = -1576.85, accuracy = 0.77\n",
      "alpha = 5.0, min_df = 0.00100, score = -1209.56, accuracy = 0.78\n",
      "alpha = 5.0, min_df = 0.01000, score = -1378.08, accuracy = 0.66\n",
      "alpha = 5.0, min_df = 0.10000, score = -1446.20, accuracy = 0.61\n",
      "alpha = 10.0, min_df = 0.00001, score = -2788.49, accuracy = 0.64\n",
      "alpha = 10.0, min_df = 0.00010, score = -2159.35, accuracy = 0.66\n",
      "alpha = 10.0, min_df = 0.00100, score = -1233.95, accuracy = 0.76\n",
      "alpha = 10.0, min_df = 0.01000, score = -1376.05, accuracy = 0.66\n",
      "alpha = 10.0, min_df = 0.10000, score = -1446.18, accuracy = 0.61\n",
      "alpha = 50.0, min_df = 0.00001, score = -3362.42, accuracy = 0.61\n",
      "alpha = 50.0, min_df = 0.00010, score = -3101.53, accuracy = 0.61\n",
      "alpha = 50.0, min_df = 0.00100, score = -1889.86, accuracy = 0.63\n",
      "alpha = 50.0, min_df = 0.01000, score = -1390.66, accuracy = 0.66\n",
      "alpha = 50.0, min_df = 0.10000, score = -1446.22, accuracy = 0.61\n"
     ]
    }
   ],
   "source": [
    "#the grid of parameters to search over\n",
    "alphas = [0, .1, 1, 5, 10, 50]\n",
    "min_dfs = [1e-5, 1e-4, 1e-3, 1e-2, 1e-1]\n",
    "\n",
    "#Find the best value for alpha and min_df, and the best classifier\n",
    "best_alpha = None\n",
    "best_min_df = None\n",
    "maxscore=-np.inf\n",
    "for alpha in alphas:\n",
    "    for min_df in min_dfs:         \n",
    "        vectorizer = CountVectorizer(min_df = min_df)       \n",
    "        Xthis, ythis = make_xy(critics, vectorizer)\n",
    "        Xtrainthis=Xthis[mask]\n",
    "        ytrainthis=ythis[mask]\n",
    "        \n",
    "        #your turn\n",
    "        clf = naive_bayes.MultinomialNB(alpha=alpha);\n",
    "        clf.fit(Xtrainthis,ytrainthis)\n",
    "        score = cv_score(clf, Xtrainthis, ytrainthis, log_likelihood); \n",
    "        print \"alpha = {:3.1f}, min_df = {:5.5f}, score = {:5.2f}, accuracy = {:3.2f}\".format(alpha,min_df,score,clf.score(Xtrainthis, ytrainthis))\n",
    "        if score>maxscore:\n",
    "            maxscore    = score;\n",
    "            best_alpha  = alpha;\n",
    "            best_min_df = min_df;"
   ]
  },
  {
   "cell_type": "code",
   "execution_count": 12,
   "metadata": {
    "collapsed": false
   },
   "outputs": [
    {
     "name": "stdout",
     "output_type": "stream",
     "text": [
      "alpha: 5.000000\n",
      "min_df: 0.001000\n"
     ]
    }
   ],
   "source": [
    "print \"alpha: %f\" % best_alpha\n",
    "print \"min_df: %f\" % best_min_df"
   ]
  },
  {
   "cell_type": "markdown",
   "metadata": {},
   "source": [
    "### Work with the best params"
   ]
  },
  {
   "cell_type": "markdown",
   "metadata": {},
   "source": [
    "**Your turn: **  Using the best values of  `alpha` and `min_df` you just found, calculate the accuracy on the training and test sets. Is this classifier better? Why (not)?"
   ]
  },
  {
   "cell_type": "code",
   "execution_count": 13,
   "metadata": {
    "collapsed": false
   },
   "outputs": [
    {
     "name": "stdout",
     "output_type": "stream",
     "text": [
      "Accuracy on training data: 0.79\n",
      "Accuracy on test data:     0.74\n"
     ]
    },
    {
     "data": {
      "text/plain": [
       "<matplotlib.text.Text at 0xb27f198>"
      ]
     },
     "execution_count": 13,
     "metadata": {},
     "output_type": "execute_result"
    },
    {
     "data": {
      "image/png": "[encoded data removed]",
      "text/plain": [
       "<matplotlib.figure.Figure at 0xb367be0>"
      ]
     },
     "metadata": {},
     "output_type": "display_data"
    }
   ],
   "source": [
    "vectorizer = CountVectorizer(min_df=best_min_df)\n",
    "X, y = make_xy(critics, vectorizer)\n",
    "xtrain=X[mask]\n",
    "ytrain=y[mask]\n",
    "xtest=X[~mask]\n",
    "ytest=y[~mask]\n",
    "clf = naive_bayes.MultinomialNB(alpha=best_alpha).fit(xtrain, ytrain)\n",
    "\n",
    "#your turn. Print the accuracy on the test and training dataset\n",
    "training_accuracy = clf.score(xtrain, ytrain)\n",
    "test_accuracy     = clf.score(xtest, ytest)\n",
    "\n",
    "print \"Accuracy on training data: %0.2f\" % (training_accuracy)\n",
    "print \"Accuracy on test data:     %0.2f\" % (test_accuracy)\n",
    "\n",
    "# Next let's systematically loop through different proportions allocated to the test/train sets\n",
    "train_size_array = np.linspace(0.01,0.99,99);\n",
    "accuracyScores  = np.zeros([len(train_size_array),2])\n",
    "for [index,train_size] in enumerate(train_size_array):\n",
    "    X_train, X_test, y_train, y_test = cross_validation.train_test_split(X,y,train_size=train_size, random_state=1);\n",
    "    clf = naive_bayes.MultinomialNB(alpha=best_alpha).fit(X_train, y_train)\n",
    "    accuracyScores[index,0] = clf.score(X_train,y_train);\n",
    "    accuracyScores[index,1] = clf.score(X_test,y_test);\n",
    "\n",
    "# Plot the results    \n",
    "fig=plt.figure();\n",
    "axes=fig.add_axes();\n",
    "plt.plot(train_size_array,accuracyScores[:,0],label='Training dataset',color='r')\n",
    "plt.plot(train_size_array,accuracyScores[:,1],label='Test dataset'    ,color='b')\n",
    "plt.legend();\n",
    "plt.ylim([0.5,1])\n",
    "plt.ylabel('Model accuracy');\n",
    "plt.xlabel('Proportion of samples contained in training dataset')"
   ]
  },
  {
   "cell_type": "code",
   "execution_count": 14,
   "metadata": {
    "collapsed": false
   },
   "outputs": [
    {
     "name": "stdout",
     "output_type": "stream",
     "text": [
      "Performance of model on Test Set:\n",
      "True Rotten: 1219 (26.108%)\n",
      "False Rotten: 581 (12.444%)\n",
      "True Fresh: 2465 (52.795%)\n",
      "False Fresh: 404 (8.653%)\n",
      "Model 80.926% correct on Fresh ratings\n",
      "Model 75.108% correct on Rotten ratings\n"
     ]
    }
   ],
   "source": [
    "from sklearn.metrics import confusion_matrix\n",
    "confusionMatrix = confusion_matrix(ytest, clf.predict(xtest));\n",
    "print \"Performance of model on Test Set:\"\n",
    "print \"True Rotten: {:3.0f} ({:0.3f}%)\".format(confusionMatrix[0,0],(100.*confusionMatrix[0,0])/len(ytest))\n",
    "print \"False Rotten: {:3.0f} ({:0.3f}%)\".format(confusionMatrix[0,1],(100.*confusionMatrix[0,1])/len(ytest))\n",
    "print \"True Fresh: {:3.0f} ({:0.3f}%)\".format(confusionMatrix[1,1],(100.*confusionMatrix[1,1])/len(ytest))\n",
    "print \"False Fresh: {:3.0f} ({:0.3f}%)\".format(confusionMatrix[1,0],(100.*confusionMatrix[1,0])/len(ytest))\n",
    "print \"Model {:0.3f}% correct on Fresh ratings\".format((100.*confusionMatrix[1,1])/np.sum(confusionMatrix[:,1],axis=0))\n",
    "print \"Model {:0.3f}% correct on Rotten ratings\".format((100.*confusionMatrix[0,0])/np.sum(confusionMatrix[:,0],axis=0))"
   ]
  },
  {
   "cell_type": "markdown",
   "metadata": {},
   "source": [
    "So the classification accuracy of the model worsens a bit on the test set by optimizing the model's parameters, in which the model classifies correctly about 73% of the time (instead of 77%). This is not all that surprising because our model was optimized by maximizing the probability of the validation folds (i.e. a larger score for true positives or true negatives) than simple classification accuracy. One reason for the drop in classification accuracy is that it's possible that by eliminating rare features (i.e. words) in the model, there is a slight loss in performance. This is because the model could be over-reliant on rare features to make a classifiction. "
   ]
  },
  {
   "cell_type": "markdown",
   "metadata": {},
   "source": [
    "## Interpretation"
   ]
  },
  {
   "cell_type": "markdown",
   "metadata": {},
   "source": [
    "### What are the strongly predictive features?\n",
    "\n",
    "We use a neat trick to identify strongly predictive features (i.e. words). \n",
    "\n",
    "* first, create a data set such that each row has exactly one feature. This is represented by the identity matrix.\n",
    "* use the trained classifier to make predictions on this matrix\n",
    "* sort the rows by predicted probabilities, and pick the top and bottom $K$ rows"
   ]
  },
  {
   "cell_type": "code",
   "execution_count": 15,
   "metadata": {
    "collapsed": false
   },
   "outputs": [
    {
     "name": "stdout",
     "output_type": "stream",
     "text": [
      "Good words\t     P(fresh | word)\n",
      "             delight 0.92\n",
      "            touching 0.90\n",
      "         masterpiece 0.90\n",
      "          remarkable 0.89\n",
      "              superb 0.88\n",
      "               witty 0.87\n",
      "        entertaining 0.87\n",
      "                rare 0.87\n",
      "            captures 0.87\n",
      "         intelligent 0.87\n",
      "Bad words\t     P(fresh | word)\n",
      "            tiresome 0.20\n",
      "             muddled 0.20\n",
      "      disappointment 0.18\n",
      "                dull 0.17\n",
      "             unfunny 0.16\n",
      "               bland 0.15\n",
      "          uninspired 0.14\n",
      "           pointless 0.14\n",
      "       unfortunately 0.13\n",
      "                lame 0.12\n"
     ]
    }
   ],
   "source": [
    "words = np.array(vectorizer.get_feature_names())\n",
    "\n",
    "x = np.eye(xtest.shape[1])\n",
    "probs = clf.predict_log_proba(x)[:, 0]\n",
    "ind = np.argsort(probs)\n",
    "\n",
    "good_words = words[ind[:10]]\n",
    "bad_words = words[ind[-10:]]\n",
    "\n",
    "good_prob = probs[ind[:10]]\n",
    "bad_prob = probs[ind[-10:]]\n",
    "\n",
    "print \"Good words\\t     P(fresh | word)\"\n",
    "for w, p in zip(good_words, good_prob):\n",
    "    print \"%20s\" % w, \"%0.2f\" % (1 - np.exp(p))\n",
    "    \n",
    "print \"Bad words\\t     P(fresh | word)\"\n",
    "for w, p in zip(bad_words, bad_prob):\n",
    "    print \"%20s\" % w, \"%0.2f\" % (1 - np.exp(p))"
   ]
  },
  {
   "cell_type": "markdown",
   "metadata": {},
   "source": [
    "**Your turn:** Why does this method work? What does the probability for each row in the identity matrix represent?"
   ]
  },
  {
   "cell_type": "markdown",
   "metadata": {},
   "source": [
    "Because this method is creating a \"pseudo\"-test set, in which only single features (i.e. words) are being tested at a single time. Previously we were testing the classifier on full-sentences, which are an amalgamation of different features. \n",
    "\n",
    "The probability for each row in the identity matrix represents the likelihood (in logarithmic form) of a fresh rating given the feature (i.e. fresh | word)."
   ]
  },
  {
   "cell_type": "markdown",
   "metadata": {},
   "source": [
    "### Mis-predictions\n",
    "\n",
    "We can see mis-predictions as well."
   ]
  },
  {
   "cell_type": "code",
   "execution_count": 16,
   "metadata": {
    "collapsed": false
   },
   "outputs": [
    {
     "name": "stdout",
     "output_type": "stream",
     "text": [
      "Mis-predicted Rotten quotes\n",
      "---------------------------\n",
      "It survives today only as an unusually pure example of a typical 50s art-film strategy: the attempt to make the most modern and most popular of art forms acceptable to the intelligentsia by forcing it into an arcane, antique mold.\n",
      "\n",
      "Benefits from a lively lead performance by the miscast Denzel Washington but doesn't come within light years of the book, one of the greatest American autobiographies.\n",
      "\n",
      "It is sometimes funny in a puzzling kind of way, it is generally overwrought in an irritating kind of way, and once in a while it is inappropriately touching.\n",
      "\n",
      "This pacifist spirit of brotherhood echoes the heroics in Princess Mononoke and other anime titles, but the artistic gap between the Miyazaki masterpiece and this project is huge.\n",
      "\n",
      "The Waterboy is arguably Sandler's most enjoyable motion picture to date, but it's still far from a masterpiece.\n",
      "\n",
      "Mis-predicted Fresh quotes\n",
      "--------------------------\n",
      "The gangland plot is flimsy (bad guy Peter Greene wears too much eyeliner), and the jokes are erratic, but it's a far better showcase for Carrey's comic-from-Uranus talent than Ace Ventura.\n",
      "\n",
      "Might it be a serious attempt to right some unretrievable wrong via gallows humor which avoids the polemics? This seems to be the course taken; the attempt at least can be respected in theory.\n",
      "\n",
      "There's too much talent and too strong a story to mess it up. There was potential for more here, but this incarnation is nothing to be ashamed of, and some of the actors answer the bell.\n",
      "\n",
      "Though it's a good half hour too long, this overblown 1993 spin-off of the 60s TV show otherwise adds up to a pretty good suspense thriller.\n",
      "\n",
      "Some of the gags don't work, but fewer than in any previous Brooks film that I've seen, and when the jokes are meant to be bad, they are riotously poor. What more can one ask of Mel Brooks?\n",
      "\n"
     ]
    },
    {
     "name": "stderr",
     "output_type": "stream",
     "text": [
      "C:\\Program Files\\Anaconda2\\lib\\site-packages\\ipykernel\\__main__.py:12: FutureWarning: irow(i) is deprecated. Please use .iloc[i] or .iat[i]\n",
      "C:\\Program Files\\Anaconda2\\lib\\site-packages\\ipykernel\\__main__.py:18: FutureWarning: irow(i) is deprecated. Please use .iloc[i] or .iat[i]\n"
     ]
    }
   ],
   "source": [
    "x, y = make_xy(critics, vectorizer)\n",
    "\n",
    "prob = clf.predict_proba(x)[:, 0]\n",
    "predict = clf.predict(x)\n",
    "\n",
    "bad_rotten = np.argsort(prob[y == 0])[:5]\n",
    "bad_fresh = np.argsort(prob[y == 1])[-5:]\n",
    "\n",
    "print \"Mis-predicted Rotten quotes\"\n",
    "print '---------------------------'\n",
    "for row in bad_rotten:\n",
    "    print critics[y == 0].quote.irow(row)\n",
    "    print\n",
    "\n",
    "print \"Mis-predicted Fresh quotes\"\n",
    "print '--------------------------'\n",
    "for row in bad_fresh:\n",
    "    print critics[y == 1].quote.irow(row)\n",
    "    print"
   ]
  },
  {
   "cell_type": "markdown",
   "metadata": {},
   "source": [
    "### Predicting the freshness for a new review\n",
    "\n",
    "**Your turn:**\n",
    "\n",
    "* Using your best trained classifier, predict the freshness of the following sentence: *'This movie is not remarkable, touching, or superb in any way'*\n",
    "* Is the result what you'd expect? Why (not)?"
   ]
  },
  {
   "cell_type": "code",
   "execution_count": 17,
   "metadata": {
    "collapsed": false
   },
   "outputs": [
    {
     "data": {
      "text/plain": [
       "'Movie Review is expected to be fresh, because state 1 is predicted '"
      ]
     },
     "execution_count": 17,
     "metadata": {},
     "output_type": "execute_result"
    }
   ],
   "source": [
    "#your turn\n",
    "newReview = ['This movie is not remarkable, touching, or superb in any way'];\n",
    "\"Movie Review is expected to be fresh, because state {} is predicted \".format(clf.predict(vectorizer.transform(newReview))[0])"
   ]
  },
  {
   "cell_type": "markdown",
   "metadata": {},
   "source": [
    "Yes, this is predicted because the words \"remarkable,\" \"touching,\" and \"superb\" are words generally used in the context of a fresh review, even though this is a rotten review. This is the underlying problem with merely creating a classifier using words alone that are missing context."
   ]
  },
  {
   "cell_type": "markdown",
   "metadata": {},
   "source": [
    "## Fun things to try and improve this model:"
   ]
  },
  {
   "cell_type": "markdown",
   "metadata": {},
   "source": [
    "There are many things worth trying. Some examples:\n",
    "\n",
    "- You could try to build a NB model where the features are word pairs instead of words. This would be smart enough to realize that \"not good\" and \"so good\" mean very different things. This technique doesn't scale very well, since these features are much more sparse (and hence harder to detect repeatable patterns within).\n",
    "- You could try a model besides NB, that would allow for interactions between words -- for example, a Random Forest classifier.\n",
    "- You could consider adding supplemental features -- information about genre, director, cast, etc.\n",
    "- You could build a visualization that prints word reviews, and visually encodes each word with size or color to indicate how that word contributes to P(Fresh). For example, really bad words could show up as big and red, good words as big and green, common words as small and grey, etc."
   ]
  },
  {
   "cell_type": "markdown",
   "metadata": {},
   "source": [
    "### Better features\n",
    "\n",
    "We could use TF-IDF instead. What is this? It stands for \n",
    "\n",
    "`Term-Frequency X Inverse Document Frequency`.\n",
    "\n",
    "In the standard `CountVectorizer` model above, we used just the term frequency in a document of words in our vocabulary. In TF-IDF, we weigh this term frequency by the inverse of its popularity in all document. For example, if the word \"movie\" showed up in all the documents, it would not have much predictive value. By weighing its counts by 1 divides by its overall frequency, we down-weight it. We can then use this tfidf weighted features as inputs to any classifier."
   ]
  },
  {
   "cell_type": "code",
   "execution_count": 18,
   "metadata": {
    "collapsed": true
   },
   "outputs": [],
   "source": [
    "#http://scikit-learn.org/dev/modules/feature_extraction.html#text-feature-extraction\n",
    "#http://scikit-learn.org/dev/modules/classes.html#text-feature-extraction-ref\n",
    "from sklearn.feature_extraction.text import TfidfVectorizer\n",
    "tfidfvectorizer = TfidfVectorizer(min_df=1, stop_words='english')\n",
    "Xtfidf=tfidfvectorizer.fit_transform(critics.quote)"
   ]
  },
  {
   "cell_type": "markdown",
   "metadata": {},
   "source": [
    "**Your turn (extra credit):** Try a few of these ideas to improve the model (or any other ideas of your own). Implement here and report on the result."
   ]
  },
  {
   "cell_type": "code",
   "execution_count": 19,
   "metadata": {
    "collapsed": false
   },
   "outputs": [
    {
     "name": "stdout",
     "output_type": "stream",
     "text": [
      "Accuracy on training data: 0.74\n",
      "Accuracy on test data:     0.71\n"
     ]
    },
    {
     "data": {
      "text/plain": [
       "<matplotlib.text.Text at 0xd5cf080>"
      ]
     },
     "execution_count": 19,
     "metadata": {},
     "output_type": "execute_result"
    },
    {
     "data": {
      "image/png": "[encoded data removed]",
      "text/plain": [
       "<matplotlib.figure.Figure at 0xd7e6278>"
      ]
     },
     "metadata": {},
     "output_type": "display_data"
    }
   ],
   "source": [
    "tfidfvectorizer = TfidfVectorizer(min_df=best_min_df, stop_words='english')\n",
    "X, y = make_xy(critics, tfidfvectorizer)\n",
    "xtrain=X[mask]\n",
    "ytrain=y[mask]\n",
    "xtest=X[~mask]\n",
    "ytest=y[~mask]\n",
    "clf = naive_bayes.MultinomialNB(alpha=best_alpha).fit(xtrain, ytrain)\n",
    "\n",
    "#your turn. Print the accuracy on the test and training dataset\n",
    "training_accuracy = clf.score(xtrain, ytrain)\n",
    "test_accuracy     = clf.score(xtest, ytest)\n",
    "\n",
    "print \"Accuracy on training data: %0.2f\" % (training_accuracy)\n",
    "print \"Accuracy on test data:     %0.2f\" % (test_accuracy)\n",
    "\n",
    "# Next let's systematically loop through different proportions allocated to the test/train sets\n",
    "train_size_array = np.linspace(0.01,0.99,99);\n",
    "accuracyScores  = np.zeros([len(train_size_array),2])\n",
    "for [index,train_size] in enumerate(train_size_array):\n",
    "    X_train, X_test, y_train, y_test = cross_validation.train_test_split(X,y,train_size=train_size, random_state=1);\n",
    "    clf = naive_bayes.MultinomialNB(alpha=best_alpha).fit(X_train, y_train)\n",
    "    accuracyScores[index,0] = clf.score(X_train,y_train);\n",
    "    accuracyScores[index,1] = clf.score(X_test,y_test);\n",
    "\n",
    "# Plot the results    \n",
    "fig=plt.figure();\n",
    "axes=fig.add_axes();\n",
    "plt.plot(train_size_array,accuracyScores[:,0],label='Training dataset',color='r')\n",
    "plt.plot(train_size_array,accuracyScores[:,1],label='Test dataset'    ,color='b')\n",
    "plt.legend();\n",
    "plt.ylim([0.5,1])\n",
    "plt.ylabel('Model accuracy');\n",
    "plt.xlabel('Proportion of samples contained in training dataset')"
   ]
  },
  {
   "cell_type": "code",
   "execution_count": null,
   "metadata": {
    "collapsed": true
   },
   "outputs": [],
   "source": []
  }
 ],
 "metadata": {
  "anaconda-cloud": {},
  "kernelspec": {
   "display_name": "Python [Root]",
   "language": "python",
   "name": "Python [Root]"
  },
  "language_info": {
   "codemirror_mode": {
    "name": "ipython",
    "version": 2
   },
   "file_extension": ".py",
   "mimetype": "text/x-python",
   "name": "python",
   "nbconvert_exporter": "python",
   "pygments_lexer": "ipython2",
   "version": "2.7.11"
  }
 },
 "nbformat": 4,
 "nbformat_minor": 0
}
